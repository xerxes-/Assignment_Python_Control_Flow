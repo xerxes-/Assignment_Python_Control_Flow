{
 "cells": [
  {
   "cell_type": "markdown",
   "id": "69e16549-444c-4278-9937-7dfb2c1e3d3b",
   "metadata": {},
   "source": [
    "# Basic If-Else Statements:"
   ]
  },
  {
   "cell_type": "markdown",
   "id": "89eeef95-7a20-4b15-a462-d09056f86ba1",
   "metadata": {},
   "source": [
    "#### 1. Write a Python program to check if a given number is positive or negative."
   ]
  },
  {
   "cell_type": "code",
   "execution_count": 2,
   "id": "7ffbf9a8-68cb-4808-b11d-fa782941bc91",
   "metadata": {},
   "outputs": [
    {
     "name": "stdin",
     "output_type": "stream",
     "text": [
      "Enter any number: 06\n"
     ]
    },
    {
     "name": "stdout",
     "output_type": "stream",
     "text": [
      "It's a +ve number.\n"
     ]
    }
   ],
   "source": [
    "n = int(input(\"Enter any number:\"))\n",
    "\n",
    "if n <= 0:\n",
    "    print(\"It's a -ve number or zero.\")\n",
    "else:\n",
    "    print(\"It's a +ve number.\")"
   ]
  },
  {
   "cell_type": "markdown",
   "id": "8fb0a1be-d31a-48d9-9743-53a35649693c",
   "metadata": {},
   "source": [
    "#### 2. Create a program that determines if a person is eligible to vote based on their age."
   ]
  },
  {
   "cell_type": "code",
   "execution_count": 5,
   "id": "bca0858a-9fe7-4271-bbd6-7bc67cf0e69d",
   "metadata": {},
   "outputs": [
    {
     "name": "stdin",
     "output_type": "stream",
     "text": [
      "Enter your age to check voting eligibility: -9\n"
     ]
    },
    {
     "name": "stdout",
     "output_type": "stream",
     "text": [
      "Not Eligible\n"
     ]
    }
   ],
   "source": [
    "va = int(input(\"Enter your age to check voting eligibility:\"))\n",
    "\n",
    "if va >= 18:\n",
    "    print(\"Eligible to Vote\")\n",
    "else:\n",
    "    print(\"Not Eligible\")"
   ]
  },
  {
   "cell_type": "markdown",
   "id": "b8187dc3-9bca-49f4-a373-119ec65967ec",
   "metadata": {},
   "source": [
    "#### 3. Develop a program to find the maximum of two numbers using if-else statements."
   ]
  },
  {
   "cell_type": "code",
   "execution_count": 10,
   "id": "84f7af86-4c45-4660-a540-c14e6d664dd0",
   "metadata": {},
   "outputs": [
    {
     "name": "stdin",
     "output_type": "stream",
     "text": [
      "Enter 1st number(a): 4\n",
      "Enter 2nd number(b): 2\n"
     ]
    },
    {
     "name": "stdout",
     "output_type": "stream",
     "text": [
      "a is greater than b\n"
     ]
    }
   ],
   "source": [
    "a = int(input(\"Enter 1st number(a):\"))\n",
    "b = int(input(\"Enter 2nd number(b):\"))\n",
    "\n",
    "if a > b:\n",
    "    print(\"a is greater than b\")\n",
    "else:\n",
    "    print(\"b is greater than a\")"
   ]
  },
  {
   "cell_type": "markdown",
   "id": "41a71afa-34b8-4865-b182-7c64a42ae37b",
   "metadata": {},
   "source": [
    "#### 4. Write a Python script to classify a given year as a leap year or not."
   ]
  },
  {
   "cell_type": "code",
   "execution_count": 1,
   "id": "1c709fa0-0fe2-4829-b8ff-dd88232a707d",
   "metadata": {},
   "outputs": [
    {
     "name": "stdin",
     "output_type": "stream",
     "text": [
      "Enter year to check if its leap or not: 3024\n"
     ]
    },
    {
     "name": "stdout",
     "output_type": "stream",
     "text": [
      "3024 is a leap year.\n"
     ]
    }
   ],
   "source": [
    "yr = int(input(\"Enter year to check if its leap or not:\"))\n",
    "\n",
    "if (yr % 400 == 0) or (yr % 4 == 0) and (yr % 100 != 0):\n",
    "    print(f\"{yr} is a leap year.\")\n",
    "else:\n",
    "    print(\"Not a leap year.\")"
   ]
  },
  {
   "cell_type": "markdown",
   "id": "dda3c606-4aff-4ed8-9c38-37f1847ed54e",
   "metadata": {},
   "source": [
    "#### 5. Create a program that checks whether a character is a vowel or a consonant."
   ]
  },
  {
   "cell_type": "code",
   "execution_count": 9,
   "id": "e946ab4c-36e1-4f47-9e82-ee9a6bba065c",
   "metadata": {},
   "outputs": [
    {
     "name": "stdin",
     "output_type": "stream",
     "text": [
      "Enter character to check: H\n"
     ]
    },
    {
     "name": "stdout",
     "output_type": "stream",
     "text": [
      "H is a consonant.\n"
     ]
    }
   ],
   "source": [
    "c = input(\"Enter character to check:\")\n",
    "char = c.lower()\n",
    "\n",
    "if char in ['a', 'e', 'i', 'o', 'u']:\n",
    "    print(f\"{c} is a vowel.\")\n",
    "elif char.isalpha():\n",
    "    print(f\"{c} is a consonant.\")\n",
    "else:\n",
    "    print(\"Invalid input. Please enter a valid alphabet character.\")\n",
    "\n"
   ]
  },
  {
   "cell_type": "markdown",
   "id": "ea8cdbd6-77cc-4b41-96ce-8fc746c32e3a",
   "metadata": {},
   "source": [
    "#### 6. Implement a program to determine whether a given number is even or odd."
   ]
  },
  {
   "cell_type": "code",
   "execution_count": 11,
   "id": "df31baa2-620a-431f-954c-203d7ad7b8d5",
   "metadata": {},
   "outputs": [
    {
     "name": "stdin",
     "output_type": "stream",
     "text": [
      "Enter number 22\n"
     ]
    },
    {
     "name": "stdout",
     "output_type": "stream",
     "text": [
      "Number is even\n"
     ]
    }
   ],
   "source": [
    "eo = int(input(\"Enter number\"))\n",
    "\n",
    "if eo % 2 == 0:\n",
    "    print(\"Number is even\")\n",
    "else:\n",
    "    print(\"Number is odd\")"
   ]
  },
  {
   "cell_type": "markdown",
   "id": "28167c8f-d301-44c2-8ba0-6ae62132b436",
   "metadata": {},
   "source": [
    "#### 7. Write a Python function to calculate the absolute value of a number without using the `abs()` function."
   ]
  },
  {
   "cell_type": "code",
   "execution_count": 15,
   "id": "b738877a-d5b1-4d56-b65e-802ed7e05d18",
   "metadata": {},
   "outputs": [
    {
     "name": "stdin",
     "output_type": "stream",
     "text": [
      "Enter number: 342\n"
     ]
    },
    {
     "name": "stdout",
     "output_type": "stream",
     "text": [
      "Absloute value of 342 is 342\n"
     ]
    }
   ],
   "source": [
    "ab = int(input(\"Enter number:\"))\n",
    "\n",
    "if ab < 0:\n",
    "    print(f\"Absloute value of {ab} is {-ab}\")\n",
    "else:\n",
    "    print(f\"Absloute value of {ab} is {ab}\")"
   ]
  },
  {
   "cell_type": "markdown",
   "id": "75c0f7a3-60ad-4f72-803e-e5436e16c558",
   "metadata": {},
   "source": [
    "#### 8. Develop a program that determines the largest of three given numbers using if-else statements."
   ]
  },
  {
   "cell_type": "code",
   "execution_count": 18,
   "id": "b7a3e4e3-aa26-431d-bd63-c682f34f706c",
   "metadata": {},
   "outputs": [
    {
     "name": "stdin",
     "output_type": "stream",
     "text": [
      "Enter 1st num: 12\n",
      "Enter 2nd num: 78\n",
      "Enter 3rd num: 56\n"
     ]
    },
    {
     "name": "stdout",
     "output_type": "stream",
     "text": [
      "Largest number is 78\n"
     ]
    }
   ],
   "source": [
    "f = int(input(\"Enter 1st num:\"))\n",
    "s = int(input(\"Enter 2nd num:\"))\n",
    "t = int(input(\"Enter 3rd num:\"))\n",
    "\n",
    "if (f > s) and (f > t):\n",
    "    print(\"Largest number is\", f)\n",
    "elif (s > f) and (s > t):\n",
    "    print(\"Largest number is\", s)\n",
    "else:\n",
    "    print(\"Largest number is\", t)"
   ]
  },
  {
   "cell_type": "markdown",
   "id": "7c976e66-4007-4d29-b74e-c4be58e97a38",
   "metadata": {},
   "source": [
    "#### 9. Create a program that checks if a given string is a palindrome."
   ]
  },
  {
   "cell_type": "code",
   "execution_count": 20,
   "id": "36b2fd67-ef08-4c84-9e21-a152fc3bd2af",
   "metadata": {},
   "outputs": [
    {
     "name": "stdin",
     "output_type": "stream",
     "text": [
      "Enter string nitin\n"
     ]
    },
    {
     "name": "stdout",
     "output_type": "stream",
     "text": [
      "nitin is a palindrome\n"
     ]
    }
   ],
   "source": [
    "pal = input(\"Enter string\")\n",
    "\n",
    "if pal == pal[::-1]:\n",
    "    print(f\"{pal} is a palindrome\")\n",
    "else:\n",
    "    print(\"Not a palindrome\")"
   ]
  },
  {
   "cell_type": "markdown",
   "id": "e08ed71a-76e8-445a-a5ce-2980213b5841",
   "metadata": {},
   "source": [
    "#### 10. Write a Python program to calculate the grade based on a student's score."
   ]
  },
  {
   "cell_type": "code",
   "execution_count": 23,
   "id": "114a0515-0214-46d4-9397-cb0c29c009fd",
   "metadata": {},
   "outputs": [
    {
     "name": "stdin",
     "output_type": "stream",
     "text": [
      "Enter the student's score:  12121334\n"
     ]
    },
    {
     "name": "stdout",
     "output_type": "stream",
     "text": [
      "Invalid score. Score must be between 0 and 100.\n"
     ]
    }
   ],
   "source": [
    "def calculate_grade(score):\n",
    "    if score >= 90:\n",
    "        return \"A\"\n",
    "    elif score >= 80:\n",
    "        return \"B\"\n",
    "    elif score >= 70:\n",
    "        return \"C\"\n",
    "    elif score >= 60:\n",
    "        return \"D\"\n",
    "    else:\n",
    "        return \"F\"\n",
    "\n",
    "try:\n",
    "    score = float(input(\"Enter the student's score: \"))\n",
    "    if 0 <= score <= 100:\n",
    "        grade = calculate_grade(score)\n",
    "        print(\"The student's grade is:\", grade)\n",
    "    else:\n",
    "        print(\"Invalid score. Score must be between 0 and 100.\")\n",
    "except ValueError:\n",
    "    print(\"Invalid input. Please enter a valid score.\")\n"
   ]
  },
  {
   "cell_type": "markdown",
   "id": "74985ad3-5e62-4907-940f-2a7aeb3b9455",
   "metadata": {},
   "source": [
    "# Nested If-Else Statements:"
   ]
  },
  {
   "cell_type": "markdown",
   "id": "18afe6b4-ef69-41b9-b701-d7c55f870a3e",
   "metadata": {},
   "source": [
    "#### 11. Write a program to find the largest among three numbers using nested if-else statements."
   ]
  },
  {
   "cell_type": "code",
   "execution_count": 2,
   "id": "0ce88216-a972-4ff4-8114-40e0c83f718b",
   "metadata": {},
   "outputs": [
    {
     "name": "stdin",
     "output_type": "stream",
     "text": [
      "Enter the first number: d\n"
     ]
    },
    {
     "name": "stdout",
     "output_type": "stream",
     "text": [
      "Invalid input. Please enter valid values.\n"
     ]
    }
   ],
   "source": [
    "def find_largest(num1, num2, num3):\n",
    "    if num1 >= num2:\n",
    "        if num1 >= num3:\n",
    "            return num1\n",
    "        else:\n",
    "            return num3\n",
    "    else:\n",
    "        if num2 >= num3:\n",
    "            return num2\n",
    "        else:\n",
    "            return num3\n",
    "\n",
    "try:\n",
    "    num1 = float(input(\"Enter the first number:\"))\n",
    "    num2 = float(input(\"Enter the second number:\"))\n",
    "    num3 = float(input(\"Enter the third number:\"))\n",
    "    largest = find_largest(num1, num2, num3)\n",
    "    print(\"The largest number is:\", largest)\n",
    "except ValueError:\n",
    "    print(\"Invalid input. Please enter valid values.\")\n"
   ]
  },
  {
   "cell_type": "markdown",
   "id": "9a081292-86ec-4538-a313-101858184e8b",
   "metadata": {},
   "source": [
    "#### 12. Implement a program to determine if a triangle is equilateral, isosceles, or scalene."
   ]
  },
  {
   "cell_type": "code",
   "execution_count": 5,
   "id": "2ba07825-2df4-4d4a-9109-fd880ebd96c2",
   "metadata": {},
   "outputs": [
    {
     "name": "stdin",
     "output_type": "stream",
     "text": [
      "Enter the length of the first side: 5\n",
      "Enter the length of the second side: 6\n",
      "Enter the length of the third side: 7\n"
     ]
    },
    {
     "name": "stdout",
     "output_type": "stream",
     "text": [
      "The triangle is: Scalene\n"
     ]
    }
   ],
   "source": [
    "def triangle_type(side1, side2, side3):\n",
    "    if side1 == side2 == side3:\n",
    "        return \"Equilateral\"\n",
    "    elif side1 == side2 or side1 == side3 or side2 == side3:\n",
    "        return \"Isosceles\"\n",
    "    else:\n",
    "        return \"Scalene\"\n",
    "\n",
    "try:\n",
    "    side1 = float(input(\"Enter the length of the first side:\"))\n",
    "    side2 = float(input(\"Enter the length of the second side:\"))\n",
    "    side3 = float(input(\"Enter the length of the third side:\"))\n",
    "    \n",
    "    if side1 <= 0 or side2 <= 0 or side3 <= 0:\n",
    "        print(\"Invalid input. Side lengths must be positive/non-zero.\")\n",
    "    elif side1 + side2 <= side3 or side1 + side3 <= side2 or side2 + side3 <= side1:\n",
    "        print(\"Invalid triangle. The sum of the lengths of any two sides must be greater than the length of the third side.\")\n",
    "    else:\n",
    "        triangle = triangle_type(side1, side2, side3)\n",
    "        print(\"The triangle is:\", triangle)\n",
    "except ValueError:\n",
    "    print(\"Invalid input. Please enter valid values for the side lengths.\")\n"
   ]
  },
  {
   "cell_type": "markdown",
   "id": "d8f29b8b-6f07-4c79-b661-f16da4389e31",
   "metadata": {},
   "source": [
    "#### 13. Develop a program that checks if a year is a leap year and also if it is a century year."
   ]
  },
  {
   "cell_type": "code",
   "execution_count": 11,
   "id": "a93940fa-db97-46de-9a7a-4f041ec312eb",
   "metadata": {},
   "outputs": [
    {
     "name": "stdin",
     "output_type": "stream",
     "text": [
      "Enter a year:  242424\n"
     ]
    },
    {
     "name": "stdout",
     "output_type": "stream",
     "text": [
      "242424 is a leap year.\n",
      "242424 is not a century year.\n"
     ]
    }
   ],
   "source": [
    "def is_leap_year(year):\n",
    "    if (year % 4 == 0 and year % 100 != 0) or (year % 400 == 0):\n",
    "        return True\n",
    "    else:\n",
    "        return False\n",
    "\n",
    "def is_century_year(year):\n",
    "    if year % 100 == 0:\n",
    "        return True\n",
    "    else:\n",
    "        return False\n",
    "\n",
    "try:\n",
    "    year = int(input(\"Enter a year:\"))\n",
    "    \n",
    "    if year > 0:\n",
    "        if is_leap_year(year):\n",
    "            print(f\"{year} is a leap year.\")\n",
    "        else:\n",
    "            print(f\"{year} is not a leap year.\")\n",
    "        \n",
    "        if is_century_year(year):\n",
    "            print(f\"{year} is a century year.\")\n",
    "        else:\n",
    "            print(f\"{year} is not a century year.\")\n",
    "    else:\n",
    "        print(\"Invalid input. Year must be a positive integer.\")\n",
    "except ValueError:\n",
    "    print(\"Invalid input. Please enter a valid year.\")\n"
   ]
  },
  {
   "cell_type": "markdown",
   "id": "c1d90129-eb7d-4232-8f61-81183de4615c",
   "metadata": {},
   "source": [
    "#### 14. Write a Python script to determine if a number is positive, negative, or zero."
   ]
  },
  {
   "cell_type": "code",
   "execution_count": 17,
   "id": "2448c64d-86a5-4e9f-abc4-bb54a77a0a21",
   "metadata": {},
   "outputs": [
    {
     "name": "stdin",
     "output_type": "stream",
     "text": [
      "Enter a number:  2133\n"
     ]
    },
    {
     "name": "stdout",
     "output_type": "stream",
     "text": [
      "The number is: Positive\n"
     ]
    }
   ],
   "source": [
    "def check_number(number):\n",
    "    if number > 0:\n",
    "        return \"Positive\"\n",
    "    elif number < 0:\n",
    "        return \"Negative\"\n",
    "    else:\n",
    "        return \"Zero\"\n",
    "\n",
    "try:\n",
    "    num = float(input(\"Enter a number:\"))\n",
    "    result = check_number(num)\n",
    "    print(\"The number is:\", result)\n",
    "except ValueError:\n",
    "    print(\"Invalid input. Please enter a valid value.\")"
   ]
  },
  {
   "cell_type": "markdown",
   "id": "c4db5b2e-942b-4a62-beef-9703d990ab43",
   "metadata": {},
   "source": [
    "#### 15. Create a program to check if a person is a teenager (between 13 and 19 years old)."
   ]
  },
  {
   "cell_type": "code",
   "execution_count": 18,
   "id": "cf75a747-323e-4113-bec3-21da78bf0358",
   "metadata": {},
   "outputs": [
    {
     "name": "stdin",
     "output_type": "stream",
     "text": [
      "Enter age:  24242\n"
     ]
    },
    {
     "name": "stdout",
     "output_type": "stream",
     "text": [
      "The person is not a teenager.\n"
     ]
    }
   ],
   "source": [
    "def is_teenager(age):\n",
    "    if age >= 13 and age <= 19:\n",
    "        return True\n",
    "    else:\n",
    "        return False\n",
    "\n",
    "try:\n",
    "    age = int(input(\"Enter age:\"))\n",
    "    if is_teenager(age):\n",
    "        print(\"The person is a teenager.\")\n",
    "    else:\n",
    "        print(\"The person is not a teenager.\")\n",
    "except ValueError:\n",
    "    print(\"Invalid input. Please enter a valid age.\")\n"
   ]
  },
  {
   "cell_type": "markdown",
   "id": "9dd161ac-b345-4202-8c4c-d4d7671ad93e",
   "metadata": {},
   "source": [
    "#### 16. Develop a program that determines the type of angle based on its measure (acute, obtuse, or right)."
   ]
  },
  {
   "cell_type": "code",
   "execution_count": 26,
   "id": "bcc1ac3a-ce28-40f2-a3a4-f2fe5dc526f5",
   "metadata": {},
   "outputs": [
    {
     "name": "stdin",
     "output_type": "stream",
     "text": [
      "Enter the angle measure in degrees:  67\n"
     ]
    },
    {
     "name": "stdout",
     "output_type": "stream",
     "text": [
      "The angle is Acute.\n"
     ]
    }
   ],
   "source": [
    "def angle_type(angle):\n",
    "    if angle < 90:\n",
    "        return \"Acute\"\n",
    "    elif angle == 90:\n",
    "        return \"Right\"\n",
    "    else:\n",
    "        return \"Obtuse\"\n",
    "\n",
    "try:\n",
    "    angle = float(input(\"Enter the angle measure in degrees:\"))\n",
    "    if angle > 0:\n",
    "        ang = angle_type(angle)\n",
    "        print(f\"The angle is {ang}.\")\n",
    "    else:\n",
    "        print(\"Invalid input. Angle measure must be positive.\")\n",
    "except ValueError:\n",
    "    print(\"Invalid input. Please enter a valid value for the angle measure.\")\n"
   ]
  },
  {
   "cell_type": "markdown",
   "id": "2fae75a5-2b3d-4dbc-8785-92e2e33c36f6",
   "metadata": {},
   "source": [
    "#### 17. Write a Python program to calculate the roots of a quadratic equation."
   ]
  },
  {
   "cell_type": "code",
   "execution_count": 15,
   "id": "371f83d3-6d5b-42bc-b368-b22c28d7b0dd",
   "metadata": {},
   "outputs": [
    {
     "name": "stdin",
     "output_type": "stream",
     "text": [
      "Enter the coefficient of x^2 (a): 1\n",
      "Enter the coefficient of x (b): 2\n",
      "Enter the constant term (c): 1\n"
     ]
    },
    {
     "name": "stdout",
     "output_type": "stream",
     "text": [
      "Root: -1.0\n"
     ]
    }
   ],
   "source": [
    "import math\n",
    "\n",
    "def quadratic_roots(a, b, c):\n",
    "    discriminant = b**2 - 4*a*c\n",
    "    \n",
    "    if discriminant > 0:\n",
    "        root1 = (-b + math.sqrt(discriminant)) / (2*a)\n",
    "        root2 = (-b - math.sqrt(discriminant)) / (2*a)\n",
    "        return root1, root2\n",
    "    elif discriminant == 0:\n",
    "        root = -b / (2*a)\n",
    "        return root, root\n",
    "    else:\n",
    "        real_part = -b / (2*a)\n",
    "        imaginary_part = math.sqrt(abs(discriminant)) / (2*a)\n",
    "        root1 = complex(real_part, imaginary_part)\n",
    "        root2 = complex(real_part, -imaginary_part)\n",
    "        return root1, root2\n",
    "\n",
    "try:\n",
    "    a = float(input(\"Enter the coefficient of x^2 (a):\"))\n",
    "    b = float(input(\"Enter the coefficient of x (b):\"))\n",
    "    c = float(input(\"Enter the constant term (c):\"))\n",
    "    \n",
    "    if a != 0:\n",
    "        root1, root2 = quadratic_roots(a, b, c)\n",
    "        if root1 == root2:\n",
    "            print(\"Root:\", root1)\n",
    "        else:    \n",
    "            print(\"Root 1:\", root1)\n",
    "            print(\"Root 2:\", root2)\n",
    "    else:\n",
    "        print(\"Invalid input. 'a' coefficient must be non-zero.\")\n",
    "except ValueError:\n",
    "    print(\"Invalid input. Please enter valid coefficients.\")\n"
   ]
  },
  {
   "cell_type": "code",
   "execution_count": 15,
   "id": "6341ac1b-15f7-47fe-abbd-e965d5ae8dd8",
   "metadata": {},
   "outputs": [
    {
     "name": "stdin",
     "output_type": "stream",
     "text": [
      "Enter the coefficient of x^2 (a): 1\n",
      "Enter the coefficient of x (b): 2\n",
      "Enter the constant term (c): 1\n"
     ]
    },
    {
     "name": "stdout",
     "output_type": "stream",
     "text": [
      "Root: -1.0\n"
     ]
    }
   ],
   "source": [
    "import math\n",
    "\n",
    "def quadratic_roots(a, b, c):\n",
    "    discriminant = b**2 - 4*a*c\n",
    "    \n",
    "    if discriminant > 0:\n",
    "        root1 = (-b + math.sqrt(discriminant)) / (2*a)\n",
    "        root2 = (-b - math.sqrt(discriminant)) / (2*a)\n",
    "        return root1, root2\n",
    "    elif discriminant == 0:\n",
    "        root = -b / (2*a)\n",
    "        return root, root\n",
    "    else:\n",
    "        real_part = -b / (2*a)\n",
    "        imaginary_part = math.sqrt(abs(discriminant)) / (2*a)\n",
    "        root1 = complex(real_part, imaginary_part)\n",
    "        root2 = complex(real_part, -imaginary_part)\n",
    "        return root1, root2\n",
    "\n",
    "try:\n",
    "    a = float(input(\"Enter the coefficient of x^2 (a):\"))\n",
    "    b = float(input(\"Enter the coefficient of x (b):\"))\n",
    "    c = float(input(\"Enter the constant term (c):\"))\n",
    "    \n",
    "    if a != 0:\n",
    "        root1, root2 = quadratic_roots(a, b, c)\n",
    "        if root1 == root2:\n",
    "            print(\"Root:\", root1)\n",
    "        else:    \n",
    "            print(\"Root 1:\", root1)\n",
    "            print(\"Root 2:\", root2)\n",
    "    else:\n",
    "        print(\"Invalid input. 'a' coefficient must be non-zero.\")\n",
    "except ValueError:\n",
    "    print(\"Invalid input. Please enter valid coefficients.\")\n"
   ]
  },
  {
   "cell_type": "markdown",
   "id": "4022427c-8588-4c01-adec-5e96529b21b3",
   "metadata": {},
   "source": [
    "#### 18. Implement a program to determine the day of the week based on a user-provided number (1 for Monday, 2 for Tuesday, etc.)."
   ]
  },
  {
   "cell_type": "code",
   "execution_count": 28,
   "id": "8ab60636-6158-4ed2-be70-4a99eda8b4cb",
   "metadata": {},
   "outputs": [
    {
     "name": "stdin",
     "output_type": "stream",
     "text": [
      "Enter a number (1 for Monday, 2 for Tuesday, etc.):  6\n"
     ]
    },
    {
     "name": "stdout",
     "output_type": "stream",
     "text": [
      "The day of the week is: Saturday\n"
     ]
    }
   ],
   "source": [
    "def get_day_of_week(day_number):\n",
    "    days_of_week = [\"Monday\", \"Tuesday\", \"Wednesday\", \"Thursday\", \"Friday\", \"Saturday\", \"Sunday\"]\n",
    "    \n",
    "    if day_number >= 1 and day_number <= 7:\n",
    "        return days_of_week[day_number - 1]\n",
    "    else:\n",
    "        return \"Invalid day number. Please enter a number between 1 and 7.\"\n",
    "\n",
    "try:\n",
    "    day_number = int(input(\"Enter a number (1 for Monday, 2 for Tuesday, etc.):\"))\n",
    "    day = get_day_of_week(day_number)\n",
    "    print(\"The day of the week is:\", day)\n",
    "except ValueError:\n",
    "    print(\"Invalid input. Please enter a valid day number.\")\n"
   ]
  },
  {
   "cell_type": "markdown",
   "id": "9c175ef6-799b-4016-bf3b-e2ade842122c",
   "metadata": {},
   "source": [
    "#### 19. Create a program that determines if a year is a leap year and also if it is evenly divisible by 400."
   ]
  },
  {
   "cell_type": "code",
   "execution_count": 29,
   "id": "ed7b87c8-59eb-4b0b-9732-21a04dfe797b",
   "metadata": {},
   "outputs": [
    {
     "name": "stdin",
     "output_type": "stream",
     "text": [
      "Enter a year:  2323\n"
     ]
    },
    {
     "name": "stdout",
     "output_type": "stream",
     "text": [
      "2323 is not a leap year.\n",
      "2323 is not evenly divisible by 400.\n"
     ]
    }
   ],
   "source": [
    "def is_leap_year(year):\n",
    "    if (year % 4 == 0 and year % 100 != 0) or (year % 400 == 0):\n",
    "        return True\n",
    "    else:\n",
    "        return False\n",
    "\n",
    "try:\n",
    "    year = int(input(\"Enter a year:\"))\n",
    "    if year > 0:\n",
    "        if is_leap_year(year):\n",
    "            print(f\"{year} is a leap year.\")\n",
    "        else:\n",
    "            print(f\"{year} is not a leap year.\")\n",
    "        \n",
    "        if year % 400 == 0:\n",
    "            print(f\"{year} is evenly divisible by 400.\")\n",
    "        else:\n",
    "            print(f\"{year} is not evenly divisible by 400.\")\n",
    "    else:\n",
    "        print(\"Invalid input. Year must be a positive integer.\")\n",
    "except ValueError:\n",
    "    print(\"Invalid input. Please enter a valid year as a positive integer.\")\n"
   ]
  },
  {
   "cell_type": "markdown",
   "id": "2ebb17ed-1fbb-40ad-b1b2-9a5f50a07c76",
   "metadata": {},
   "source": [
    "#### 20. Develop a program that checks if a given number is prime or not using nested if-else statements."
   ]
  },
  {
   "cell_type": "code",
   "execution_count": 30,
   "id": "a7920992-3c76-4244-a730-01c29b9be38c",
   "metadata": {},
   "outputs": [
    {
     "name": "stdin",
     "output_type": "stream",
     "text": [
      "Enter a number to check if it's prime:  -2323\n"
     ]
    },
    {
     "name": "stdout",
     "output_type": "stream",
     "text": [
      "-2323 is not a prime number.\n"
     ]
    }
   ],
   "source": [
    "def is_prime(number):\n",
    "    if number <= 1:\n",
    "        return False\n",
    "    for i in range(2, int(number**0.5) + 1):\n",
    "        if number % i == 0:\n",
    "            return False\n",
    "    return True\n",
    "\n",
    "try:\n",
    "    num = int(input(\"Enter a number to check if it's prime:\"))\n",
    "    if is_prime(num):\n",
    "        print(f\"{num} is a prime number.\")\n",
    "    else:\n",
    "        print(f\"{num} is not a prime number.\")\n",
    "except ValueError:\n",
    "    print(\"Invalid input. Please enter a valid number.\")\n"
   ]
  },
  {
   "cell_type": "markdown",
   "id": "0d4a81da-83de-4989-980d-601725857d7e",
   "metadata": {},
   "source": [
    "# Elif Statements:"
   ]
  },
  {
   "cell_type": "markdown",
   "id": "0ba9458c-d03c-49c5-93fa-aee76c3d410d",
   "metadata": {},
   "source": [
    "#### 21. Write a Python program to assign grades based on different ranges of scores using elif statements."
   ]
  },
  {
   "cell_type": "code",
   "execution_count": 32,
   "id": "7a8044a6-34c3-431d-a601-50def199c335",
   "metadata": {},
   "outputs": [
    {
     "name": "stdin",
     "output_type": "stream",
     "text": [
      "Enter the student's score:  78\n"
     ]
    },
    {
     "name": "stdout",
     "output_type": "stream",
     "text": [
      "The student's grade is: C\n"
     ]
    }
   ],
   "source": [
    "def assign_grade(score):\n",
    "    if score >= 90:\n",
    "        return \"A\"\n",
    "    elif score >= 80:\n",
    "        return \"B\"\n",
    "    elif score >= 70:\n",
    "        return \"C\"\n",
    "    elif score >= 60:\n",
    "        return \"D\"\n",
    "    else:\n",
    "        return \"F\"\n",
    "\n",
    "try:\n",
    "    score = float(input(\"Enter the student's score:\"))\n",
    "    if 0 <= score <= 100:\n",
    "        grade = assign_grade(score)\n",
    "        print(\"The student's grade is:\", grade)\n",
    "    else:\n",
    "        print(\"Invalid score. Score must be between 0 and 100.\")\n",
    "except ValueError:\n",
    "    print(\"Invalid input. Please enter a valid score.\")\n"
   ]
  },
  {
   "cell_type": "markdown",
   "id": "e2572579-3662-49e1-82d0-b363b0dd3dbf",
   "metadata": {},
   "source": [
    "#### 22. Implement a program to determine the type of a triangle based on its angles."
   ]
  },
  {
   "cell_type": "code",
   "execution_count": 33,
   "id": "fdee6baf-0bc4-463f-80ca-bec829b5cb82",
   "metadata": {},
   "outputs": [
    {
     "name": "stdin",
     "output_type": "stream",
     "text": [
      "Enter the first angle of the triangle:  34\n",
      "Enter the second angle of the triangle:  78\n",
      "Enter the third angle of the triangle:  45\n"
     ]
    },
    {
     "name": "stdout",
     "output_type": "stream",
     "text": [
      "The triangle is: Invalid triangle angles. The sum of the angles must be 180 degrees.\n"
     ]
    }
   ],
   "source": [
    "def triangle_type(angle1, angle2, angle3):\n",
    "    if angle1 + angle2 + angle3 == 180:\n",
    "        if angle1 == angle2 == angle3:\n",
    "            return \"Equilateral\"\n",
    "        elif angle1 == 90 or angle2 == 90 or angle3 == 90:\n",
    "            return \"Right\"\n",
    "        elif angle1 > 90 or angle2 > 90 or angle3 > 90:\n",
    "            return \"Obtuse\"\n",
    "        else:\n",
    "            return \"Acute\"\n",
    "    else:\n",
    "        return \"Invalid triangle angles. The sum of the angles must be 180 degrees.\"\n",
    "\n",
    "try:\n",
    "    angle1 = float(input(\"Enter the first angle of the triangle:\"))\n",
    "    angle2 = float(input(\"Enter the second angle of the triangle:\"))\n",
    "    angle3 = float(input(\"Enter the third angle of the triangle:\"))\n",
    "    \n",
    "    triangle = triangle_type(angle1, angle2, angle3)\n",
    "    print(\"The triangle is:\", triangle)\n",
    "except ValueError:\n",
    "    print(\"Invalid input. Please enter valid angles.\")\n"
   ]
  },
  {
   "cell_type": "markdown",
   "id": "fa955935-d3aa-4688-af0f-2deaed8cbd6f",
   "metadata": {},
   "source": [
    "#### 23. Develop a program to categorize a given person's BMI into underweight, normal, overweight, or obese using elif statements."
   ]
  },
  {
   "cell_type": "code",
   "execution_count": 34,
   "id": "d77a5795-6809-4ba8-a514-20c582333f92",
   "metadata": {},
   "outputs": [
    {
     "name": "stdin",
     "output_type": "stream",
     "text": [
      "Enter your weight in kilograms:  112\n",
      "Enter your height in meters:  1.6\n"
     ]
    },
    {
     "name": "stdout",
     "output_type": "stream",
     "text": [
      "Your BMI is 43.75, which is Obese.\n"
     ]
    }
   ],
   "source": [
    "def calculate_bmi(weight, height):\n",
    "    return weight / (height * height)  # ** operator has higher precedence over / operator. On the other hand, * operator shares equal precedence with / operator.\n",
    "\n",
    "def categorize_bmi(bmi):\n",
    "    if bmi < 18.5:\n",
    "        return \"Underweight\"\n",
    "    elif 18.5 <= bmi < 25:\n",
    "        return \"Normal\"\n",
    "    elif 25 <= bmi < 30:\n",
    "        return \"Overweight\"\n",
    "    else:\n",
    "        return \"Obese\"\n",
    "\n",
    "try:\n",
    "    weight = float(input(\"Enter your weight in kilograms:\"))\n",
    "    height = float(input(\"Enter your height in meters:\"))\n",
    "\n",
    "    if weight > 0 and height > 0:\n",
    "        bmi = calculate_bmi(weight, height)\n",
    "        category = categorize_bmi(bmi)\n",
    "        print(f\"Your BMI is {bmi:.2f}, which is {category}.\")\n",
    "    else:\n",
    "        print(\"Invalid input. Weight and height must be positive numbers.\")\n",
    "except ValueError:\n",
    "    print(\"Invalid input. Please enter valid values for weight and height.\")\n"
   ]
  },
  {
   "cell_type": "markdown",
   "id": "9ba3e694-a709-454a-ba54-e85af95b3f7d",
   "metadata": {},
   "source": [
    "#### 24. Create a program that determines whether a given number is positive, negative, or zero using elif statements."
   ]
  },
  {
   "cell_type": "code",
   "execution_count": 35,
   "id": "092a30e5-656c-4604-8657-d7d10e119c95",
   "metadata": {},
   "outputs": [
    {
     "name": "stdin",
     "output_type": "stream",
     "text": [
      "Enter a number:  -98\n"
     ]
    },
    {
     "name": "stdout",
     "output_type": "stream",
     "text": [
      "The number is: Negative\n"
     ]
    }
   ],
   "source": [
    "def check_number(number):\n",
    "    if number > 0:\n",
    "        return \"Positive\"\n",
    "    elif number < 0:\n",
    "        return \"Negative\"\n",
    "    else:\n",
    "        return \"Zero\"\n",
    "\n",
    "try:\n",
    "    num = float(input(\"Enter a number:\"))\n",
    "    result = check_number(num)\n",
    "    print(\"The number is:\", result)\n",
    "except ValueError:\n",
    "    print(\"Invalid input. Please enter a valid value.\")\n"
   ]
  },
  {
   "cell_type": "markdown",
   "id": "aa1f5a90-b74e-4010-892c-275128b1765d",
   "metadata": {},
   "source": [
    "#### 25. Write a Python script to determine the type of a character (uppercase, lowercase, or special) using elif statements."
   ]
  },
  {
   "cell_type": "code",
   "execution_count": 38,
   "id": "02e09657-ff9d-48f3-9e9e-5f75d39ad7e3",
   "metadata": {},
   "outputs": [
    {
     "name": "stdin",
     "output_type": "stream",
     "text": [
      "Enter a character:  F\n"
     ]
    },
    {
     "name": "stdout",
     "output_type": "stream",
     "text": [
      "The character 'F' is Uppercase.\n"
     ]
    }
   ],
   "source": [
    "def character_type(char):\n",
    "    if char.isupper():\n",
    "        return \"Uppercase\"\n",
    "    elif char.islower():\n",
    "        return \"Lowercase\"\n",
    "    else:\n",
    "        return \"Special\"\n",
    "\n",
    "try:\n",
    "    character = input(\"Enter a character:\")\n",
    "    if len(character) == 1:\n",
    "        type_of_char = character_type(character)\n",
    "        print(f\"The character '{character}' is {type_of_char}.\")\n",
    "    else:\n",
    "        print(\"Invalid input. Please enter only one character.\")\n",
    "except ValueError:\n",
    "    print(\"Invalid input. Please enter a valid character.\")\n"
   ]
  },
  {
   "cell_type": "markdown",
   "id": "72ddb907-b578-4100-b843-d0d47879e207",
   "metadata": {},
   "source": [
    "#### 26. Implement a program to calculate the discounted price based on different purchase amounts using elif statements."
   ]
  },
  {
   "cell_type": "code",
   "execution_count": 40,
   "id": "b7cc2668-667b-48f4-830a-cf7fd1a0faf8",
   "metadata": {},
   "outputs": [
    {
     "name": "stdin",
     "output_type": "stream",
     "text": [
      "Enter the price per item:  23.4\n",
      "Enter the quantity purchased:  2321\n"
     ]
    },
    {
     "name": "stdout",
     "output_type": "stream",
     "text": [
      "The discounted price for 2321 items is: $48880.26\n"
     ]
    }
   ],
   "source": [
    "def calculate_discounted_price(price, quantity):\n",
    "    total_price = price * quantity\n",
    "    \n",
    "    if quantity >= 100:\n",
    "        discount_rate = 0.1  # 10% discount for purchases of 100 or more\n",
    "    elif quantity >= 50:\n",
    "        discount_rate = 0.05  # 5% discount for purchases of 50 or more\n",
    "    else:\n",
    "        discount_rate = 0  # No discount for purchases less than 50\n",
    "    \n",
    "    discounted_price = total_price - (total_price * discount_rate)\n",
    "    return discounted_price\n",
    "\n",
    "try:\n",
    "    price = float(input(\"Enter the price per item:\"))\n",
    "    quantity = int(input(\"Enter the quantity purchased:\"))\n",
    "    \n",
    "    if price > 0 and quantity > 0:\n",
    "        discounted_price = calculate_discounted_price(price, quantity)\n",
    "        print(f\"The discounted price for {quantity} items is: ${discounted_price:.2f}\")\n",
    "    else:\n",
    "        print(\"Invalid input. Price and quantity must be positive numbers.\")\n",
    "except ValueError:\n",
    "    print(\"Invalid input. Please enter valid values for price and quantity.\")\n"
   ]
  },
  {
   "cell_type": "markdown",
   "id": "f353da15-7b7b-4296-9ebf-ebc43196ff9f",
   "metadata": {},
   "source": [
    "#### 27. Develop a program to calculate the electricity bill based on different consumption slabs using elif statements."
   ]
  },
  {
   "cell_type": "code",
   "execution_count": 41,
   "id": "d28e1229-f170-4277-88d9-408ab4e9fde8",
   "metadata": {},
   "outputs": [
    {
     "name": "stdin",
     "output_type": "stream",
     "text": [
      "Enter the number of units consumed:  303\n"
     ]
    },
    {
     "name": "stdout",
     "output_type": "stream",
     "text": [
      "The electricity bill for 303.0 units is: $299.50\n"
     ]
    }
   ],
   "source": [
    "def calculate_electricity_bill(units):\n",
    "    if units <= 50:\n",
    "        bill = units * 0.50\n",
    "    elif units <= 150:\n",
    "        bill = 25 + (units - 50) * 0.75\n",
    "    elif units <= 250:\n",
    "        bill = 100 + (units - 150) * 1.20\n",
    "    else:\n",
    "        bill = 220 + (units - 250) * 1.50\n",
    "    return bill\n",
    "\n",
    "try:\n",
    "    units = float(input(\"Enter the number of units consumed:\"))\n",
    "    if units >= 0:\n",
    "        bill_amount = calculate_electricity_bill(units)\n",
    "        print(f\"The electricity bill for {units} units is: ${bill_amount:.2f}\")\n",
    "    else:\n",
    "        print(\"Invalid input. Units consumed must be a non-negative number.\")\n",
    "except ValueError:\n",
    "    print(\"Invalid input. Please enter a valid value for units consumed.\")\n"
   ]
  },
  {
   "cell_type": "markdown",
   "id": "e897c19b-5f87-44c9-a306-6d1c98335343",
   "metadata": {},
   "source": [
    "#### 28. Create a program to determine the type of quadrilateral based on its angles and sides using elif statements."
   ]
  },
  {
   "cell_type": "code",
   "execution_count": 48,
   "id": "c86e487d-8697-4328-ad5e-15f9f7096db9",
   "metadata": {},
   "outputs": [
    {
     "name": "stdout",
     "output_type": "stream",
     "text": [
      "Enter the side lengths of the quadrilateral (4 values separated by spaces):\n"
     ]
    },
    {
     "name": "stdin",
     "output_type": "stream",
     "text": [
      " 12 23 12 23\n"
     ]
    },
    {
     "name": "stdout",
     "output_type": "stream",
     "text": [
      "Enter the angle measures of the quadrilateral (4 values separated by spaces):\n"
     ]
    },
    {
     "name": "stdin",
     "output_type": "stream",
     "text": [
      " 90 90 90 90\n"
     ]
    },
    {
     "name": "stdout",
     "output_type": "stream",
     "text": [
      "The given quadrilateral is a: Rectangle\n"
     ]
    }
   ],
   "source": [
    "def quadrilateral_type(sides, angles):\n",
    "    # Check if the sum of angles is 360 degrees\n",
    "    if sum(angles) != 360:\n",
    "        return \"Not a quadrilateral\"\n",
    "    \n",
    "    # Check for square\n",
    "    if len(set(sides)) == 1 and len(set(angles)) == 1:\n",
    "        return \"Square\"\n",
    "    \n",
    "    # Check for rectangle\n",
    "    elif len(set(sides)) == 2 and len(set(angles)) == 1 and 90 in set(angles):\n",
    "        return \"Rectangle\"\n",
    "    \n",
    "    # Check for rhombus\n",
    "    elif len(set(sides)) == 2 and len(set(angles)) == 2:\n",
    "        return \"Rhombus\"\n",
    "    \n",
    "    # Check for kite\n",
    "    elif len(set(sides)) == 2 and len(set(angles)) == 3:\n",
    "        return \"Kite\"\n",
    "    \n",
    "    # Check for parallelogram\n",
    "    elif len(set(sides)) == 2:\n",
    "        return \"Parallelogram\"\n",
    "    \n",
    "    # Check for isosceles trapezoid\n",
    "    elif len(set(sides)) == 3 and len(set(angles)) == 2:\n",
    "        return \"Isosceles Trapezoid\"\n",
    "    \n",
    "    # Check for trapezoid\n",
    "    elif len(set(sides)) == 3:\n",
    "        return \"Trapezoid\"\n",
    "    \n",
    "    # Default case: quadrilateral\n",
    "    else:\n",
    "        return \"Quadrilateral\"\n",
    "\n",
    "\n",
    "try:\n",
    "    sides = []\n",
    "    angles = []\n",
    "\n",
    "    print(\"Enter the side lengths of the quadrilateral (4 values separated by spaces):\")\n",
    "    side_input = input().split()\n",
    "    for length in side_input:\n",
    "        sides.append(float(length))\n",
    "\n",
    "    print(\"Enter the angle measures of the quadrilateral (4 values separated by spaces):\")\n",
    "    angle_input = input().split()\n",
    "    for angle in angle_input:\n",
    "        angles.append(float(angle))\n",
    "\n",
    "    # Determine the type of quadrilateral\n",
    "    quadrilateral_type = quadrilateral_type(sides, angles)\n",
    "    print(f\"The given quadrilateral is a: {quadrilateral_type}\")\n",
    "\n",
    "except ValueError:\n",
    "    print(\"Invalid input. Please enter a valid value.\")"
   ]
  },
  {
   "cell_type": "markdown",
   "id": "0a9016d8-32c5-432a-80fc-961e4a02b05c",
   "metadata": {},
   "source": [
    "#### 29. Write a Python script to determine the season based on a user-provided month using elif statements."
   ]
  },
  {
   "cell_type": "code",
   "execution_count": 50,
   "id": "ae96c9e4-5d99-4faa-b930-9992ea6e4d49",
   "metadata": {},
   "outputs": [
    {
     "name": "stdin",
     "output_type": "stream",
     "text": [
      "Enter the month (1-12):  2\n"
     ]
    },
    {
     "name": "stdout",
     "output_type": "stream",
     "text": [
      "The season for month 2 is: Winter\n"
     ]
    }
   ],
   "source": [
    "def determine_season(month):\n",
    "    if month in (12, 1, 2):\n",
    "        return \"Winter\"\n",
    "    elif month in (3, 4, 5):\n",
    "        return \"Spring\"\n",
    "    elif month in (6, 7, 8):\n",
    "        return \"Summer\"\n",
    "    elif month in (9, 10, 11):\n",
    "        return \"Autumn\"\n",
    "\n",
    "try:\n",
    "    month = int(input(\"Enter the month (1-12):\"))\n",
    "    if 1 <= month <= 12:\n",
    "        season = determine_season(month)\n",
    "        print(f\"The season for month {month} is: {season}\")\n",
    "    else:\n",
    "        print(\"Invalid input. Month must be between 1 and 12.\")\n",
    "except ValueError:\n",
    "    print(\"Invalid input. Please enter a valid value for the month.\")\n"
   ]
  },
  {
   "cell_type": "markdown",
   "id": "798d9925-8ef6-4e35-96bf-49f79233c95b",
   "metadata": {},
   "source": [
    "#### 30. Implement a program to determine the type of a year (leap or common) and month (30 or 31 days) using elif statements."
   ]
  },
  {
   "cell_type": "code",
   "execution_count": 52,
   "id": "008b6662-1183-4e81-a9dd-93aac930b675",
   "metadata": {},
   "outputs": [
    {
     "name": "stdin",
     "output_type": "stream",
     "text": [
      "Enter the year:  2024\n",
      "Enter the month (1-12):  7\n"
     ]
    },
    {
     "name": "stdout",
     "output_type": "stream",
     "text": [
      "The year 2024 is a Leap year, and the month 7 has 31 days.\n"
     ]
    }
   ],
   "source": [
    "def is_leap_year(year):\n",
    "    if (year % 4 == 0 and year % 100 != 0) or (year % 400 == 0):\n",
    "        return True\n",
    "    else:\n",
    "        return False\n",
    "\n",
    "def days_in_month(month, year):\n",
    "    if month in (1, 3, 5, 7, 8, 10, 12):\n",
    "        return 31\n",
    "    elif month in (4, 6, 9, 11):\n",
    "        return 30\n",
    "    elif month == 2:\n",
    "        if is_leap_year(year):\n",
    "            return 29\n",
    "        else:\n",
    "            return 28\n",
    "\n",
    "try:\n",
    "    year = int(input(\"Enter the year:\"))\n",
    "    month = int(input(\"Enter the month (1-12):\"))\n",
    "    \n",
    "    if 1 <= month <= 12:\n",
    "        month_days = days_in_month(month, year)\n",
    "        year_type = \"Leap\" if is_leap_year(year) else \"Common\"\n",
    "        \n",
    "        print(f\"The year {year} is a {year_type} year, and the month {month} has {month_days} days.\")\n",
    "        \n",
    "    else:\n",
    "        print(\"Invalid input. Month must be between 1 and 12.\")\n",
    "except ValueError:\n",
    "    print(\"Invalid input. Please enter valid values for the year and month.\")\n"
   ]
  },
  {
   "cell_type": "markdown",
   "id": "0b54c0d5-da0e-46e1-8453-3c0289a4486f",
   "metadata": {},
   "source": [
    "# Basic Level:"
   ]
  },
  {
   "cell_type": "markdown",
   "id": "4c189e09-b6e8-4171-885e-867a6c860fc9",
   "metadata": {},
   "source": [
    "#### 1. Write a Python program that checks if a given number is positive, negative, or zero."
   ]
  },
  {
   "cell_type": "code",
   "execution_count": 53,
   "id": "d38705b0-e364-43f1-aea4-5ea1793c2a5e",
   "metadata": {},
   "outputs": [
    {
     "name": "stdin",
     "output_type": "stream",
     "text": [
      "Enter a number:  45\n"
     ]
    },
    {
     "name": "stdout",
     "output_type": "stream",
     "text": [
      "The number is: Positive\n"
     ]
    }
   ],
   "source": [
    "def check_number(number):\n",
    "    if number > 0:\n",
    "        return \"Positive\"\n",
    "    elif number < 0:\n",
    "        return \"Negative\"\n",
    "    else:\n",
    "        return \"Zero\"\n",
    "\n",
    "try:\n",
    "    num = float(input(\"Enter a number:\"))\n",
    "    result = check_number(num)\n",
    "    print(\"The number is:\", result)\n",
    "except ValueError:\n",
    "    print(\"Invalid input. Please enter a valid value.\")\n"
   ]
  },
  {
   "cell_type": "markdown",
   "id": "d6e70950-4bb7-48b3-a081-6aa3cb758e31",
   "metadata": {},
   "source": [
    "#### 2. Create a program to determine if a person is eligible to vote based on their age."
   ]
  },
  {
   "cell_type": "code",
   "execution_count": 56,
   "id": "842d2406-a0a8-489b-908b-6e2d52028376",
   "metadata": {},
   "outputs": [
    {
     "name": "stdin",
     "output_type": "stream",
     "text": [
      "Enter your age:  34\n"
     ]
    },
    {
     "name": "stdout",
     "output_type": "stream",
     "text": [
      "You are eligible to vote.\n"
     ]
    }
   ],
   "source": [
    "def check_voting_eligibility(age):\n",
    "    if age >= 18:\n",
    "        return \"You are eligible to vote.\"\n",
    "    else:\n",
    "        return \"You are not eligible to vote yet.\"\n",
    "\n",
    "try:\n",
    "    age = int(input(\"Enter your age:\"))\n",
    "    if age >= 0:\n",
    "        eligibility_status = check_voting_eligibility(age)\n",
    "        print(eligibility_status)\n",
    "    else:\n",
    "        print(\"Invalid age. Age must be a non-negative integer.\")\n",
    "except ValueError:\n",
    "    print(\"Invalid input. Please enter a valid value for age.\")\n"
   ]
  },
  {
   "cell_type": "markdown",
   "id": "bee9858d-b7c1-425f-af5e-1472f6cce8d0",
   "metadata": {},
   "source": [
    "#### 3. Write a program to find the maximum of two given numbers using conditional statements."
   ]
  },
  {
   "cell_type": "code",
   "execution_count": 57,
   "id": "9d6f67c2-d530-4ee7-b05a-784307a3996a",
   "metadata": {},
   "outputs": [
    {
     "name": "stdin",
     "output_type": "stream",
     "text": [
      "Enter the first number:  34\n",
      "Enter the second number:  23\n"
     ]
    },
    {
     "name": "stdout",
     "output_type": "stream",
     "text": [
      "The maximum of the two numbers is: 34.0\n"
     ]
    }
   ],
   "source": [
    "def find_maximum(num1, num2):\n",
    "    if num1 > num2:\n",
    "        return num1\n",
    "    else:\n",
    "        return num2\n",
    "\n",
    "try:\n",
    "    num1 = float(input(\"Enter the first number:\"))\n",
    "    num2 = float(input(\"Enter the second number:\"))\n",
    "    \n",
    "    maximum = find_maximum(num1, num2)\n",
    "    print(\"The maximum of the two numbers is:\", maximum)\n",
    "except ValueError:\n",
    "    print(\"Invalid input. Please enter valid values for the numbers.\")\n"
   ]
  },
  {
   "cell_type": "markdown",
   "id": "cb7fdb3f-c09c-488c-b073-136e40c99abe",
   "metadata": {},
   "source": [
    "#### 4. Develop a program that calculates the grade of a student based on their exam score."
   ]
  },
  {
   "cell_type": "code",
   "execution_count": 2,
   "id": "62863015-d9ee-46c5-a308-8c54a50a024b",
   "metadata": {},
   "outputs": [
    {
     "name": "stdin",
     "output_type": "stream",
     "text": [
      "Enter the student's exam score:  89\n"
     ]
    },
    {
     "name": "stdout",
     "output_type": "stream",
     "text": [
      "The student's grade is: B\n"
     ]
    }
   ],
   "source": [
    "def calculate_grade(score):\n",
    "    if 90 <= score <= 100:\n",
    "        return \"A\"\n",
    "    elif 80 <= score < 90:\n",
    "        return \"B\"\n",
    "    elif 70 <= score < 80:\n",
    "        return \"C\"\n",
    "    elif 60 <= score < 70:\n",
    "        return \"D\"\n",
    "    elif 0 <= score < 60:\n",
    "        return \"F\"\n",
    "\n",
    "try:\n",
    "    score = float(input(\"Enter the student's exam score:\"))\n",
    "    if 0 <= score <= 100:\n",
    "        grade = calculate_grade(score)\n",
    "        print(\"The student's grade is:\", grade)\n",
    "    else:\n",
    "        print(\"Invalid score. Score must be between 0 and 100.\")\n",
    "except ValueError:\n",
    "    print(\"Invalid input. Please enter a valid score.\")"
   ]
  },
  {
   "cell_type": "markdown",
   "id": "0141d340-ebbe-4ee7-bc44-d98bf927ebaa",
   "metadata": {},
   "source": [
    "#### 5. Create a program that checks if a year is a leap year or not."
   ]
  },
  {
   "cell_type": "code",
   "execution_count": 3,
   "id": "95e0806e-c4de-4d37-a5a1-0cd854d0002a",
   "metadata": {},
   "outputs": [
    {
     "name": "stdin",
     "output_type": "stream",
     "text": [
      "Enter a year:  5900\n"
     ]
    },
    {
     "name": "stdout",
     "output_type": "stream",
     "text": [
      "5900 is not a leap year.\n"
     ]
    }
   ],
   "source": [
    "def is_leap_year(year):\n",
    "    if (year % 4 == 0 and year % 100 != 0) or (year % 400 == 0):\n",
    "        return True\n",
    "    else:\n",
    "        return False\n",
    "\n",
    "try:\n",
    "    year = int(input(\"Enter a year:\"))\n",
    "    if year > 0:\n",
    "        if is_leap_year(year):\n",
    "            print(f\"{year} is a leap year.\")\n",
    "        else:\n",
    "            print(f\"{year} is not a leap year.\")\n",
    "    else:\n",
    "        print(\"Invalid input. Year must be a positive integer.\")\n",
    "except ValueError:\n",
    "    print(\"Invalid input. Please enter a valid value for the year.\")\n"
   ]
  },
  {
   "cell_type": "markdown",
   "id": "14f2d3f1-91be-4871-b672-deb5250e3ee5",
   "metadata": {},
   "source": [
    "#### 6. Write a program to classify a triangle based on its sides' lengths."
   ]
  },
  {
   "cell_type": "code",
   "execution_count": 5,
   "id": "5c95a9e5-3464-48ad-8329-08c7e29a5fdb",
   "metadata": {},
   "outputs": [
    {
     "name": "stdin",
     "output_type": "stream",
     "text": [
      "Enter the length of the first side:  34\n",
      "Enter the length of the second side:  34\n",
      "Enter the length of the third side:  5\n"
     ]
    },
    {
     "name": "stdout",
     "output_type": "stream",
     "text": [
      "The triangle is: Isosceles\n"
     ]
    }
   ],
   "source": [
    "def classify_triangle(side1, side2, side3):\n",
    "    if side1 == side2 == side3:\n",
    "        return \"Equilateral\"\n",
    "    elif side1 == side2 or side1 == side3 or side2 == side3:\n",
    "        return \"Isosceles\"\n",
    "    else:\n",
    "        return \"Scalene\"\n",
    "\n",
    "try:\n",
    "    side1 = float(input(\"Enter the length of the first side:\"))\n",
    "    side2 = float(input(\"Enter the length of the second side:\"))\n",
    "    side3 = float(input(\"Enter the length of the third side:\"))\n",
    "    \n",
    "    if side1 > 0 and side2 > 0 and side3 > 0:\n",
    "        triangle_type = classify_triangle(side1, side2, side3)\n",
    "        print(\"The triangle is:\", triangle_type)\n",
    "    else:\n",
    "        print(\"Invalid input. Side lengths must be positive numbers.\")\n",
    "except ValueError:\n",
    "    print(\"Invalid input. Please enter valid values for side lengths.\")\n"
   ]
  },
  {
   "cell_type": "markdown",
   "id": "2a0dc66a-ef07-40d3-92f3-2fe8162322a8",
   "metadata": {},
   "source": [
    "#### 7. Build a program that determines the largest of three given numbers."
   ]
  },
  {
   "cell_type": "code",
   "execution_count": 6,
   "id": "eafcea92-cb4a-4469-adee-719d05306aab",
   "metadata": {},
   "outputs": [
    {
     "name": "stdin",
     "output_type": "stream",
     "text": [
      "Enter the first number: 34\n",
      "Enter the second number: 57\n",
      "Enter the third number: 2\n"
     ]
    },
    {
     "name": "stdout",
     "output_type": "stream",
     "text": [
      "The largest number is: 57.0\n"
     ]
    }
   ],
   "source": [
    "def find_largest(num1, num2, num3):\n",
    "    if num1 >= num2 and num1 >= num3:\n",
    "        return num1\n",
    "    elif num2 >= num1 and num2 >= num3:\n",
    "        return num2\n",
    "    else:\n",
    "        return num3\n",
    "\n",
    "try:\n",
    "    num1 = float(input(\"Enter the first number:\"))\n",
    "    num2 = float(input(\"Enter the second number:\"))\n",
    "    num3 = float(input(\"Enter the third number:\"))\n",
    "    \n",
    "    largest = find_largest(num1, num2, num3)\n",
    "    print(\"The largest number is:\", largest)\n",
    "except ValueError:\n",
    "    print(\"Invalid input. Please enter valid values for the numbers.\")\n"
   ]
  },
  {
   "cell_type": "markdown",
   "id": "db7078a8-afa1-4094-bc76-6472d6320a76",
   "metadata": {},
   "source": [
    "#### 8. Develop a program that checks whether a character is a vowel or a consonant."
   ]
  },
  {
   "cell_type": "code",
   "execution_count": 7,
   "id": "35668b1b-b17f-4db7-b7c6-52c6da3f8d93",
   "metadata": {},
   "outputs": [
    {
     "name": "stdin",
     "output_type": "stream",
     "text": [
      "Enter a character: f\n"
     ]
    },
    {
     "name": "stdout",
     "output_type": "stream",
     "text": [
      "The character 'f' is a Consonant.\n"
     ]
    }
   ],
   "source": [
    "def check_vowel_or_consonant(char):\n",
    "    vowels = \"aeiouAEIOU\"\n",
    "    \n",
    "    if char.isalpha():\n",
    "        if char in vowels:\n",
    "            return \"Vowel\"\n",
    "        else:\n",
    "            return \"Consonant\"\n",
    "    else:\n",
    "        return \"Not a valid alphabet character\"\n",
    "\n",
    "try:\n",
    "    character = input(\"Enter a character:\")\n",
    "    if len(character) == 1:\n",
    "        result = check_vowel_or_consonant(character)\n",
    "        print(f\"The character '{character}' is a {result}.\")\n",
    "    else:\n",
    "        print(\"Invalid input. Please enter only one character.\")\n",
    "except ValueError:\n",
    "    print(\"Invalid input. Please enter a valid character.\")\n"
   ]
  },
  {
   "cell_type": "markdown",
   "id": "ed77be2d-736a-4c1b-8157-e045be17588b",
   "metadata": {},
   "source": [
    "#### 9. Create a program to calculate the total cost of a shopping cart based on discounts."
   ]
  },
  {
   "cell_type": "code",
   "execution_count": 10,
   "id": "211c7833-c5e1-434a-a99d-60926360bee0",
   "metadata": {},
   "outputs": [
    {
     "name": "stdin",
     "output_type": "stream",
     "text": [
      "Enter the items in your shopping cart (separated by commas):  apple, milk, bread\n",
      "Enter the price of apple:  34\n",
      "Enter the price of  milk:  67\n",
      "Enter the price of  bread:  25\n"
     ]
    },
    {
     "name": "stdout",
     "output_type": "stream",
     "text": [
      "The total cost of your shopping cart is: $113.40\n"
     ]
    }
   ],
   "source": [
    "def calculate_total_cost(items, prices):\n",
    "    total_cost = 0\n",
    "    \n",
    "    for item, price in zip(items, prices):\n",
    "        total_cost += price\n",
    "    \n",
    "    # Apply discount based on total cost\n",
    "    if total_cost >= 100:\n",
    "        total_cost *= 0.9  # 10% discount for total cost >= $100\n",
    "    \n",
    "    return total_cost\n",
    "\n",
    "try:\n",
    "    items = input(\"Enter the items in your shopping cart (separated by commas):\").split(',')\n",
    "    prices = [float(input(f\"Enter the price of {item}:\")) for item in items]\n",
    "    \n",
    "    if len(items) == len(prices):\n",
    "        total_cost = calculate_total_cost(items, prices)\n",
    "        print(f\"The total cost of your shopping cart is: ${total_cost:.2f}\")\n",
    "    else:\n",
    "        print(\"Invalid input. Please enter the same number of items and prices.\")\n",
    "except ValueError:\n",
    "    print(\"Invalid input. Please enter valid values for item prices.\")\n"
   ]
  },
  {
   "cell_type": "markdown",
   "id": "6fc7f1d2-c50c-445c-8b68-461a9faa3f44",
   "metadata": {},
   "source": [
    "#### 10. Write a program that checks if a given number is even or odd."
   ]
  },
  {
   "cell_type": "code",
   "execution_count": 12,
   "id": "4794a1b7-555b-426c-9c74-947ef22a71dd",
   "metadata": {},
   "outputs": [
    {
     "name": "stdin",
     "output_type": "stream",
     "text": [
      "Enter a number: 69\n"
     ]
    },
    {
     "name": "stdout",
     "output_type": "stream",
     "text": [
      "The number 69 is Odd.\n"
     ]
    }
   ],
   "source": [
    "def check_even_or_odd(number):\n",
    "    if number % 2 == 0:\n",
    "        return \"Even\"\n",
    "    else:\n",
    "        return \"Odd\"\n",
    "\n",
    "try:\n",
    "    num = int(input(\"Enter a number:\"))\n",
    "    result = check_even_or_odd(num)\n",
    "    print(f\"The number {num} is {result}.\")\n",
    "except ValueError:\n",
    "    print(\"Invalid input. Please enter a valid value.\")\n"
   ]
  },
  {
   "cell_type": "markdown",
   "id": "2c4ad658-9b85-4883-a135-02c8d3a7d8fd",
   "metadata": {},
   "source": [
    "# Intermediate Level:"
   ]
  },
  {
   "cell_type": "markdown",
   "id": "6dbf6d58-278b-4c5c-8593-dd69f8a0df23",
   "metadata": {},
   "source": [
    "#### 11. Write a program that calculates the roots of a quadratic equation ."
   ]
  },
  {
   "cell_type": "code",
   "execution_count": 16,
   "id": "8037b29d-0ab3-430a-a5c0-a89040e2191b",
   "metadata": {},
   "outputs": [
    {
     "name": "stdin",
     "output_type": "stream",
     "text": [
      "Enter the coefficient of x^2 (a): 4\n",
      "Enter the coefficient of x (b): 1\n",
      "Enter the constant term (c): 3\n"
     ]
    },
    {
     "name": "stdout",
     "output_type": "stream",
     "text": [
      "Root 1: (-0.125+0.8569568250501305j)\n",
      "Root 2: (-0.125-0.8569568250501305j)\n"
     ]
    }
   ],
   "source": [
    "import math\n",
    "\n",
    "def quadratic_roots(a, b, c):\n",
    "    discriminant = b**2 - 4*a*c\n",
    "    \n",
    "    if discriminant > 0:\n",
    "        root1 = (-b + math.sqrt(discriminant)) / (2*a)\n",
    "        root2 = (-b - math.sqrt(discriminant)) / (2*a)\n",
    "        return root1, root2\n",
    "    elif discriminant == 0:\n",
    "        root = -b / (2*a)\n",
    "        return root, root\n",
    "    else:\n",
    "        real_part = -b / (2*a)\n",
    "        imaginary_part = math.sqrt(abs(discriminant)) / (2*a)\n",
    "        root1 = complex(real_part, imaginary_part)\n",
    "        root2 = complex(real_part, -imaginary_part)\n",
    "        return root1, root2\n",
    "\n",
    "try:\n",
    "    a = float(input(\"Enter the coefficient of x^2 (a):\"))\n",
    "    b = float(input(\"Enter the coefficient of x (b):\"))\n",
    "    c = float(input(\"Enter the constant term (c):\"))\n",
    "    \n",
    "    if a != 0:\n",
    "        root1, root2 = quadratic_roots(a, b, c)\n",
    "        if root1 == root2:\n",
    "            print(\"Root:\", root1)\n",
    "        else:    \n",
    "            print(\"Root 1:\", root1)\n",
    "            print(\"Root 2:\", root2)\n",
    "    else:\n",
    "        print(\"Invalid input. 'a' coefficient must be non-zero.\")\n",
    "except ValueError:\n",
    "    print(\"Invalid input. Please enter valid coefficients.\")\n"
   ]
  },
  {
   "cell_type": "markdown",
   "id": "498e62e2-fe4b-4c8b-81d1-03ba69379545",
   "metadata": {},
   "source": [
    "#### 12. Create a program that determines the day of the week based on the day number (1-7)."
   ]
  },
  {
   "cell_type": "code",
   "execution_count": 17,
   "id": "bcbacffe-ae4e-4f0a-ada1-5b8b705aedcf",
   "metadata": {},
   "outputs": [
    {
     "name": "stdin",
     "output_type": "stream",
     "text": [
      "Enter the day number (1-7):  7\n"
     ]
    },
    {
     "name": "stdout",
     "output_type": "stream",
     "text": [
      "The day of the week for day number 7 is: Sunday.\n"
     ]
    }
   ],
   "source": [
    "def determine_day_of_week(day_number):\n",
    "    if day_number == 1:\n",
    "        return \"Monday\"\n",
    "    elif day_number == 2:\n",
    "        return \"Tuesday\"\n",
    "    elif day_number == 3:\n",
    "        return \"Wednesday\"\n",
    "    elif day_number == 4:\n",
    "        return \"Thursday\"\n",
    "    elif day_number == 5:\n",
    "        return \"Friday\"\n",
    "    elif day_number == 6:\n",
    "        return \"Saturday\"\n",
    "    elif day_number == 7:\n",
    "        return \"Sunday\"\n",
    "\n",
    "try:\n",
    "    day_number = int(input(\"Enter the day number (1-7): \"))\n",
    "    if 1 <= day_number <= 7:\n",
    "        day_of_week = determine_day_of_week(day_number)\n",
    "        print(f\"The day of the week for day number {day_number} is: {day_of_week}.\")\n",
    "    else:\n",
    "        print(\"Invalid input. Day number must be between 1 and 7.\")\n",
    "except ValueError:\n",
    "    print(\"Invalid input. Please enter a valid value for the day number.\")\n"
   ]
  },
  {
   "cell_type": "markdown",
   "id": "e56f3564-63f6-4768-9cf2-112895f77533",
   "metadata": {},
   "source": [
    "#### 13. Develop a program that calculates the factorial of a given number using recursion."
   ]
  },
  {
   "cell_type": "code",
   "execution_count": 19,
   "id": "f62296f9-9b8d-4ce7-a37e-5d361e70c72c",
   "metadata": {},
   "outputs": [
    {
     "name": "stdin",
     "output_type": "stream",
     "text": [
      "Enter a non-negative integer:  90\n"
     ]
    },
    {
     "name": "stdout",
     "output_type": "stream",
     "text": [
      "The factorial of 90 is: 1485715964481761497309522733620825737885569961284688766942216863704985393094065876545992131370884059645617234469978112000000000000000000000\n"
     ]
    }
   ],
   "source": [
    "def factorial(n):\n",
    "    if n == 0:\n",
    "        return 1\n",
    "    else:\n",
    "        return n * factorial(n - 1)\n",
    "\n",
    "try:\n",
    "    num = int(input(\"Enter a non-negative integer: \"))\n",
    "    if num >= 0:\n",
    "        result = factorial(num)\n",
    "        print(f\"The factorial of {num} is: {result}\")\n",
    "    else:\n",
    "        print(\"Invalid input. Please enter a non-negative integer.\")\n",
    "except ValueError:\n",
    "    print(\"Invalid input. Please enter a valid value.\")\n"
   ]
  },
  {
   "cell_type": "markdown",
   "id": "d35e8e68-0773-488e-95f2-21f83bdd49eb",
   "metadata": {},
   "source": [
    "#### 14. Write a program to find the largest among three numbers without using the `max()` function."
   ]
  },
  {
   "cell_type": "code",
   "execution_count": 20,
   "id": "6b4e277d-452d-4a77-bf2d-7c8e7f894732",
   "metadata": {},
   "outputs": [
    {
     "name": "stdin",
     "output_type": "stream",
     "text": [
      "Enter the first number:  34\n",
      "Enter the second number:  546\n",
      "Enter the third number:  234\n"
     ]
    },
    {
     "name": "stdout",
     "output_type": "stream",
     "text": [
      "The largest number is: 546.0\n"
     ]
    }
   ],
   "source": [
    "def find_largest(num1, num2, num3):\n",
    "    if num1 >= num2 and num1 >= num3:\n",
    "        return num1\n",
    "    elif num2 >= num1 and num2 >= num3:\n",
    "        return num2\n",
    "    else:\n",
    "        return num3\n",
    "\n",
    "try:\n",
    "    num1 = float(input(\"Enter the first number: \"))\n",
    "    num2 = float(input(\"Enter the second number: \"))\n",
    "    num3 = float(input(\"Enter the third number: \"))\n",
    "    \n",
    "    largest = find_largest(num1, num2, num3)\n",
    "    print(\"The largest number is:\", largest)\n",
    "except ValueError:\n",
    "    print(\"Invalid input. Please enter valid values for the numbers.\")\n"
   ]
  },
  {
   "cell_type": "markdown",
   "id": "5f0af338-bd60-4afe-8a2e-20337654e242",
   "metadata": {},
   "source": [
    "#### 15. Create a program that simulates a basic ATM transaction menu."
   ]
  },
  {
   "cell_type": "code",
   "execution_count": 23,
   "id": "fdd38b01-d45b-4e91-b224-6eb70d89e3ce",
   "metadata": {},
   "outputs": [
    {
     "name": "stdout",
     "output_type": "stream",
     "text": [
      "\n",
      "ATM Menu\n",
      "1. Check Balance\n",
      "2. Withdraw Cash\n",
      "3. Deposit Cash\n",
      "4. Exit\n"
     ]
    },
    {
     "name": "stdin",
     "output_type": "stream",
     "text": [
      "Enter your choice: 3\n",
      "\n",
      "Enter the amount to deposit:$ 242\n"
     ]
    },
    {
     "name": "stdout",
     "output_type": "stream",
     "text": [
      "\n",
      "Deposit successful. Your new balance is: $1242.0\n",
      "\n",
      "ATM Menu\n",
      "1. Check Balance\n",
      "2. Withdraw Cash\n",
      "3. Deposit Cash\n",
      "4. Exit\n"
     ]
    },
    {
     "name": "stdin",
     "output_type": "stream",
     "text": [
      "Enter your choice: 4\n"
     ]
    },
    {
     "name": "stdout",
     "output_type": "stream",
     "text": [
      "\n",
      "Exiting the ATM. Goodbye!\n"
     ]
    }
   ],
   "source": [
    "balance = 1000  # Initial balance\n",
    "\n",
    "while True:\n",
    "    print(\"\\nATM Menu\")\n",
    "    print(\"1. Check Balance\")\n",
    "    print(\"2. Withdraw Cash\")\n",
    "    print(\"3. Deposit Cash\")\n",
    "    print(\"4. Exit\")\n",
    "\n",
    "    choice = input(\"Enter your choice:\")\n",
    "\n",
    "    if choice == \"1\":\n",
    "        print(f\"\\nYour current balance is: ${balance}\")\n",
    "    elif choice == \"2\":\n",
    "        amount = float(input(\"\\nEnter the amount to withdraw:$\"))\n",
    "        if amount > balance:\n",
    "            print(\"\\nInsufficient balance. Please try again.\")\n",
    "        else:\n",
    "            balance -= amount\n",
    "            print(f\"\\nWithdrawal successful. Your new balance is: ${balance}\")\n",
    "    elif choice == \"3\":\n",
    "        amount = float(input(\"\\nEnter the amount to deposit:$\"))\n",
    "        balance += amount\n",
    "        print(f\"\\nDeposit successful. Your new balance is: ${balance}\")\n",
    "    elif choice == \"4\":\n",
    "        print(\"\\nExiting the ATM. Goodbye!\")\n",
    "        break\n",
    "    else:\n",
    "        print(\"\\nInvalid choice. Please try again.\")"
   ]
  },
  {
   "cell_type": "markdown",
   "id": "47cec18d-9210-4ef2-a63c-749a1b936024",
   "metadata": {},
   "source": [
    "#### 16. Build a program that checks if a given string is a palindrome or not."
   ]
  },
  {
   "cell_type": "code",
   "execution_count": 25,
   "id": "31411ace-a020-4246-bea3-4b39b05bcbc4",
   "metadata": {},
   "outputs": [
    {
     "name": "stdin",
     "output_type": "stream",
     "text": [
      "Enter a string:  nitin\n"
     ]
    },
    {
     "name": "stdout",
     "output_type": "stream",
     "text": [
      "The string 'nitin' is a palindrome.\n"
     ]
    }
   ],
   "source": [
    "def is_palindrome(s):\n",
    "    return s == s[::-1]\n",
    "\n",
    "try:\n",
    "    name = input(\"Enter a string: \")\n",
    "    if is_palindrome(name):\n",
    "        print(f\"The string '{name}' is a palindrome.\")\n",
    "    else:\n",
    "        print(f\"The string '{name}' is not a palindrome.\")\n",
    "except ValueError:\n",
    "    print(\"Invalid input. Please enter a valid string.\")\n"
   ]
  },
  {
   "cell_type": "markdown",
   "id": "e8e503e2-5482-4f80-9f88-0b254b871854",
   "metadata": {},
   "source": [
    "#### 17. Write a program that calculates the average of a list of numbers, excluding the smallest and largest values."
   ]
  },
  {
   "cell_type": "code",
   "execution_count": 26,
   "id": "a47e638a-805f-44ec-89a3-c57a276df087",
   "metadata": {},
   "outputs": [
    {
     "name": "stdin",
     "output_type": "stream",
     "text": [
      "Enter a list of numbers separated by spaces: 1 45 32 7 85 5\n"
     ]
    },
    {
     "name": "stdout",
     "output_type": "stream",
     "text": [
      "The average of the list (excluding the smallest and largest values) is: 22.25\n"
     ]
    }
   ],
   "source": [
    "def calculate_average(numbers):\n",
    "    if len(numbers) <= 2:\n",
    "        return 0  # If the list has less than 3 elements, return 0\n",
    "    \n",
    "    # Remove the smallest and largest values\n",
    "    numbers.sort()  # Sort the numbers in ascending order\n",
    "    numbers = numbers[1:-1]  # Exclude the first and last elements\n",
    "    \n",
    "    total = sum(numbers)\n",
    "    average = total / len(numbers)\n",
    "    return average\n",
    "\n",
    "try:\n",
    "    numbers = [float(x) for x in input(\"Enter a list of numbers separated by spaces:\").split()]\n",
    "    avg = calculate_average(numbers)\n",
    "    print(\"The average of the list (excluding the smallest and largest values) is:\", avg)\n",
    "except ValueError:\n",
    "    print(\"Invalid input. Please enter valid values for the list of numbers.\")\n"
   ]
  },
  {
   "cell_type": "markdown",
   "id": "98da8d7d-8bed-4ba0-b4e6-df3f83e0af6b",
   "metadata": {},
   "source": [
    "#### 18. Develop a program that converts a given temperature from Celsius to Fahrenheit."
   ]
  },
  {
   "cell_type": "code",
   "execution_count": 27,
   "id": "b5518ea2-6d9b-44c5-8c0f-22c0b8bad660",
   "metadata": {},
   "outputs": [
    {
     "name": "stdin",
     "output_type": "stream",
     "text": [
      "Enter the temperature in Celsius: 462\n"
     ]
    },
    {
     "name": "stdout",
     "output_type": "stream",
     "text": [
      "The temperature 462.0°C is equivalent to 863.6°F.\n"
     ]
    }
   ],
   "source": [
    "def celsius_to_fahrenheit(celsius):\n",
    "    fahrenheit = (celsius * 9/5) + 32\n",
    "    return fahrenheit\n",
    "\n",
    "try:\n",
    "    celsius = float(input(\"Enter the temperature in Celsius:\"))\n",
    "    fahrenheit = celsius_to_fahrenheit(celsius)\n",
    "    print(f\"The temperature {celsius}°C is equivalent to {fahrenheit}°F.\")\n",
    "except ValueError:\n",
    "    print(\"Invalid input. Please enter a valid value for the temperature.\")\n"
   ]
  },
  {
   "cell_type": "markdown",
   "id": "d1b936cb-a0a8-45f7-b29b-494ff5ef1032",
   "metadata": {},
   "source": [
    "#### 19. Create a program that simulates a basic calculator for addition, subtraction, multiplication, and division."
   ]
  },
  {
   "cell_type": "code",
   "execution_count": 28,
   "id": "598c655f-c95b-420d-822f-a20c79cc8de1",
   "metadata": {},
   "outputs": [
    {
     "name": "stdout",
     "output_type": "stream",
     "text": [
      "Welcome to the Basic Calculator!\n",
      "Operations:\n",
      "1. Addition\n",
      "2. Subtraction\n",
      "3. Multiplication\n",
      "4. Division\n"
     ]
    },
    {
     "name": "stdin",
     "output_type": "stream",
     "text": [
      "Enter your choice (1/2/3/4):  4\n",
      "Enter the first number:  4\n",
      "Enter the second number:  0\n"
     ]
    },
    {
     "name": "stdout",
     "output_type": "stream",
     "text": [
      "Result: Error! Division by zero.\n"
     ]
    }
   ],
   "source": [
    "def add(x, y):\n",
    "    return x + y\n",
    "\n",
    "def subtract(x, y):\n",
    "    return x - y\n",
    "\n",
    "def multiply(x, y):\n",
    "    return x * y\n",
    "\n",
    "def divide(x, y):\n",
    "    if y == 0:\n",
    "        return \"Error! Division by zero.\"\n",
    "    else:\n",
    "        return x / y\n",
    "\n",
    "def calculator():\n",
    "    print(\"Welcome to the Basic Calculator!\")\n",
    "    print(\"Operations:\")\n",
    "    print(\"1. Addition\")\n",
    "    print(\"2. Subtraction\")\n",
    "    print(\"3. Multiplication\")\n",
    "    print(\"4. Division\")\n",
    "\n",
    "    try:\n",
    "        choice = int(input(\"Enter your choice (1/2/3/4): \"))\n",
    "        if choice in (1, 2, 3, 4):\n",
    "            num1 = float(input(\"Enter the first number: \"))\n",
    "            num2 = float(input(\"Enter the second number: \"))\n",
    "\n",
    "            if choice == 1:\n",
    "                print(\"Result:\", add(num1, num2))\n",
    "            elif choice == 2:\n",
    "                print(\"Result:\", subtract(num1, num2))\n",
    "            elif choice == 3:\n",
    "                print(\"Result:\", multiply(num1, num2))\n",
    "            elif choice == 4:\n",
    "                print(\"Result:\", divide(num1, num2))\n",
    "        else:\n",
    "            print(\"Invalid choice. Please enter a number between 1 and 4.\")\n",
    "    except ValueError:\n",
    "        print(\"Invalid input. Please enter valid values.\")\n",
    "\n",
    "calculator()\n"
   ]
  },
  {
   "cell_type": "markdown",
   "id": "472ba3b7-2b9b-4e29-b30b-a334c3a8894b",
   "metadata": {},
   "source": [
    "#### 20. Write a program that determines the roots of a cubic equation using the Cardano formula."
   ]
  },
  {
   "cell_type": "code",
   "execution_count": 29,
   "id": "d12f280b-d123-4483-a234-8549e47b4eb3",
   "metadata": {},
   "outputs": [
    {
     "name": "stdin",
     "output_type": "stream",
     "text": [
      "Enter the coefficient of x^3 (a):  3\n",
      "Enter the coefficient of x^2 (b):  2\n",
      "Enter the coefficient of x (c):  5\n",
      "Enter the constant term (d):  2\n"
     ]
    },
    {
     "name": "stdout",
     "output_type": "stream",
     "text": [
      "The roots of the cubic equation are: (0.804879012612722+0.7107684534424288j)\n"
     ]
    }
   ],
   "source": [
    "import math\n",
    "\n",
    "def calculate_cubic_roots(a, b, c, d):\n",
    "    if a == 0:\n",
    "        return \"Coefficient 'a' cannot be zero for a cubic equation.\"\n",
    "    \n",
    "    p = (3*a*c - b**2) / (3*a**2)\n",
    "    q = (2*b**3 - 9*a*b*c + 27*a**2*d) / (27*a**3)\n",
    "\n",
    "    discriminant = (q/2)**2 + (p/3)**3\n",
    "\n",
    "    if discriminant > 0:\n",
    "        u = (-q/2 + math.sqrt(discriminant))**(1/3)\n",
    "        v = (-q/2 - math.sqrt(discriminant))**(1/3)\n",
    "        \n",
    "        root1 = u + v - b/(3*a)\n",
    "        return root1\n",
    "    elif discriminant == 0:\n",
    "        if q == 0:\n",
    "            root1 = -b/(3*a)\n",
    "            return root1\n",
    "        else:\n",
    "            u = (-q/2)**(1/3)\n",
    "            root1 = 2*u - b/(3*a)\n",
    "            root2 = -u - b/(3*a)\n",
    "            return root1, root2\n",
    "    else:\n",
    "        phi = math.acos(-q/2 * math.sqrt(-27/(p**3))) / 3\n",
    "        root1 = 2 * math.sqrt(-p/3) * math.cos(phi) - b/(3*a)\n",
    "        root2 = 2 * math.sqrt(-p/3) * math.cos(phi + 2*math.pi/3) - b/(3*a)\n",
    "        root3 = 2 * math.sqrt(-p/3) * math.cos(phi - 2*math.pi/3) - b/(3*a)\n",
    "        return root1, root2, root3\n",
    "\n",
    "try:\n",
    "    a = float(input(\"Enter the coefficient of x^3 (a): \"))\n",
    "    b = float(input(\"Enter the coefficient of x^2 (b): \"))\n",
    "    c = float(input(\"Enter the coefficient of x (c): \"))\n",
    "    d = float(input(\"Enter the constant term (d): \"))\n",
    "    \n",
    "    roots = calculate_cubic_roots(a, b, c, d)\n",
    "    print(\"The roots of the cubic equation are:\", roots)\n",
    "except ValueError:\n",
    "    print(\"Invalid input. Please enter valid values for coefficients and constants.\")\n"
   ]
  },
  {
   "cell_type": "markdown",
   "id": "71dd4faa-48ba-4371-8e20-f4a5abb68a93",
   "metadata": {},
   "source": [
    "# Advanced Level:"
   ]
  },
  {
   "cell_type": "markdown",
   "id": "11543fe0-5726-4919-a530-1eaf635036a1",
   "metadata": {},
   "source": [
    "#### 21. Create a program that calculates the income tax based on the user's income and tax brackets."
   ]
  },
  {
   "cell_type": "code",
   "execution_count": 30,
   "id": "1c3d8b84-cb09-4ec9-acad-306a215f65a8",
   "metadata": {},
   "outputs": [
    {
     "name": "stdin",
     "output_type": "stream",
     "text": [
      "Enter your income: 300000\n"
     ]
    },
    {
     "name": "stdout",
     "output_type": "stream",
     "text": [
      "The income tax for an income of 300000.0 is: 2500.0\n"
     ]
    }
   ],
   "source": [
    "def calculate_income_tax(income):\n",
    "    tax_brackets = [(250000, 0), (500000, 5), (1000000, 20), (float('inf'), 30)]\n",
    "\n",
    "    # Calculate the tax\n",
    "    tax = 0\n",
    "    prev_bracket = 0\n",
    "    for bracket, rate in tax_brackets:\n",
    "        if income > bracket:\n",
    "            tax += (bracket - prev_bracket) * rate / 100\n",
    "        else:\n",
    "            tax += (income - prev_bracket) * rate / 100\n",
    "            break\n",
    "        prev_bracket = bracket\n",
    "\n",
    "    return tax\n",
    "\n",
    "try:\n",
    "    income = float(input(\"Enter your income:\"))\n",
    "    tax = calculate_income_tax(income)\n",
    "    print(f\"The income tax for an income of {income} is: {tax}\")\n",
    "except ValueError:\n",
    "    print(\"Invalid input. Please enter valid value.\")"
   ]
  },
  {
   "cell_type": "markdown",
   "id": "a58436f2-3009-444b-a771-2d6575bcdbee",
   "metadata": {},
   "source": [
    "#### 22. Write a program that simulates a rock-paper-scissors game against the computer."
   ]
  },
  {
   "cell_type": "code",
   "execution_count": 1,
   "id": "c21385bc-fa91-4343-b80b-cafe601f5407",
   "metadata": {},
   "outputs": [
    {
     "name": "stdin",
     "output_type": "stream",
     "text": [
      "Enter your choice (rock, paper, or scissors):  rock\n"
     ]
    },
    {
     "name": "stdout",
     "output_type": "stream",
     "text": [
      "You chose: rock\n",
      "Computer chose: scissors\n",
      "You win!\n"
     ]
    },
    {
     "name": "stdin",
     "output_type": "stream",
     "text": [
      "Do you want to play again? (yes/no):  yes\n",
      "Enter your choice (rock, paper, or scissors):  paper\n"
     ]
    },
    {
     "name": "stdout",
     "output_type": "stream",
     "text": [
      "You chose: paper\n",
      "Computer chose: paper\n",
      "It's a tie!\n"
     ]
    },
    {
     "name": "stdin",
     "output_type": "stream",
     "text": [
      "Do you want to play again? (yes/no):  no\n"
     ]
    },
    {
     "name": "stdout",
     "output_type": "stream",
     "text": [
      "Thanks for playing!\n"
     ]
    }
   ],
   "source": [
    "import random\n",
    "\n",
    "def get_user_choice():\n",
    "    while True:\n",
    "        user_choice = input(\"Enter your choice (rock, paper, or scissors):\").lower()\n",
    "        if user_choice in ('rock', 'paper', 'scissors'):\n",
    "            return user_choice\n",
    "        else:\n",
    "            print(\"Invalid choice. Please enter 'rock', 'paper', or 'scissors'.\")\n",
    "\n",
    "def get_computer_choice():\n",
    "    return random.choice(['rock', 'paper', 'scissors'])\n",
    "\n",
    "def determine_winner(user_choice, computer_choice):\n",
    "    if user_choice == computer_choice:\n",
    "        return \"It's a tie!\"\n",
    "    elif (user_choice == 'rock' and computer_choice == 'scissors') or \\\n",
    "         (user_choice == 'paper' and computer_choice == 'rock') or \\\n",
    "         (user_choice == 'scissors' and computer_choice == 'paper'):\n",
    "        return \"You win!\"\n",
    "    else:\n",
    "        return \"Computer wins!\"\n",
    "\n",
    "while True:\n",
    "    user_choice = get_user_choice()\n",
    "    computer_choice = get_computer_choice()\n",
    "    \n",
    "    print(f\"You chose: {user_choice}\")\n",
    "    print(f\"Computer chose: {computer_choice}\")\n",
    "\n",
    "    result = determine_winner(user_choice, computer_choice)\n",
    "    print(result)\n",
    "\n",
    "    play_again = input(\"Do you want to play again? (yes/no): \").lower()\n",
    "    if play_again != 'yes':\n",
    "        break\n",
    "\n",
    "print(\"Thanks for playing!\")\n"
   ]
  },
  {
   "cell_type": "markdown",
   "id": "825dbd62-fc40-4a03-99ef-2a25a86028fb",
   "metadata": {},
   "source": [
    "#### 23. Develop a program that generates a random password based on user preferences (length, complexity)."
   ]
  },
  {
   "cell_type": "code",
   "execution_count": 4,
   "id": "eddf87d9-4fdd-4415-9801-2cf1676ca0eb",
   "metadata": {},
   "outputs": [
    {
     "name": "stdin",
     "output_type": "stream",
     "text": [
      "Enter the length of the password: 9\n",
      "Enter the complexity level (low/medium/high): high\n"
     ]
    },
    {
     "name": "stdout",
     "output_type": "stream",
     "text": [
      "Generated password: RfFUQ7UL.\n"
     ]
    }
   ],
   "source": [
    "import random\n",
    "import string\n",
    "\n",
    "def generate_password(length, complexity):\n",
    "    if complexity == 'low':\n",
    "        characters = string.ascii_letters\n",
    "    elif complexity == 'medium':\n",
    "        characters = string.ascii_letters + string.digits\n",
    "    elif complexity == 'high':\n",
    "        characters = string.ascii_letters + string.digits + string.punctuation\n",
    "    else:\n",
    "        return \"Invalid complexity level. Please choose from 'low', 'medium', or 'high'.\"\n",
    "\n",
    "    password = ''.join(random.choice(characters) for _ in range(length))  # _ is placeholder variable.\n",
    "    return password\n",
    "\n",
    "try:\n",
    "    length = int(input(\"Enter the length of the password:\"))\n",
    "    complexity = input(\"Enter the complexity level (low/medium/high):\").lower()\n",
    "\n",
    "    password = generate_password(length, complexity)\n",
    "    print(\"Generated password:\", password)\n",
    "except ValueError:\n",
    "    print(\"Invalid input. Please enter a valid value for the length.\")\n"
   ]
  },
  {
   "cell_type": "markdown",
   "id": "0bcd33f8-c9ee-4331-a054-a6cf93d70ad5",
   "metadata": {},
   "source": [
    "#### 24. Create a program that implements a simple text-based adventure game with branching scenarios."
   ]
  },
  {
   "cell_type": "code",
   "execution_count": 5,
   "id": "7cf121e4-0779-43ae-8bdf-ecad4ce79595",
   "metadata": {},
   "outputs": [
    {
     "name": "stdout",
     "output_type": "stream",
     "text": [
      "Welcome to the Text-Based Adventure Game!\n",
      "You wake up in a mysterious room with three doors in front of you: red, blue, and green.\n",
      "Which door do you choose?\n"
     ]
    },
    {
     "name": "stdin",
     "output_type": "stream",
     "text": [
      "Enter the color of the door you want to open (red/blue/green): black\n"
     ]
    },
    {
     "name": "stdout",
     "output_type": "stream",
     "text": [
      "Invalid choice. Please enter 'red', 'blue', or 'green'.\n"
     ]
    },
    {
     "name": "stdin",
     "output_type": "stream",
     "text": [
      "Enter the color of the door you want to open (red/blue/green): red\n"
     ]
    },
    {
     "name": "stdout",
     "output_type": "stream",
     "text": [
      "You open the red door and find a treasure chest inside!\n",
      "Congratulations! You win!\n"
     ]
    },
    {
     "name": "stdin",
     "output_type": "stream",
     "text": [
      "Do you want to play again? (yes/no): no\n"
     ]
    },
    {
     "name": "stdout",
     "output_type": "stream",
     "text": [
      "Thanks for playing!\n"
     ]
    }
   ],
   "source": [
    "def start_game():\n",
    "    print(\"Welcome to the Text-Based Adventure Game!\")\n",
    "    print(\"You wake up in a mysterious room with three doors in front of you: red, blue, and green.\")\n",
    "    print(\"Which door do you choose?\")\n",
    "\n",
    "def choose_door():\n",
    "    while True:\n",
    "        choice = input(\"Enter the color of the door you want to open (red/blue/green):\").lower()\n",
    "        if choice in ('red', 'blue', 'green'):\n",
    "            return choice\n",
    "        else:\n",
    "            print(\"Invalid choice. Please enter 'red', 'blue', or 'green'.\")\n",
    "\n",
    "def red_door():\n",
    "    print(\"You open the red door and find a treasure chest inside!\")\n",
    "    print(\"Congratulations! You win!\")\n",
    "\n",
    "def blue_door():\n",
    "    print(\"You open the blue door and find a sleeping dragon inside.\")\n",
    "    print(\"The dragon wakes up and breathes fire on you. Game over!\")\n",
    "\n",
    "def green_door():\n",
    "    print(\"You open the green door and find yourself in a lush garden.\")\n",
    "    print(\"You enjoy the serene environment and feel relaxed.\")\n",
    "\n",
    "# Main game loop\n",
    "def play_game():\n",
    "    start_game()\n",
    "    choice = choose_door()\n",
    "    if choice == 'red':\n",
    "        red_door()\n",
    "    elif choice == 'blue':\n",
    "        blue_door()\n",
    "    elif choice == 'green':\n",
    "        green_door()\n",
    "\n",
    "    play_again = input(\"Do you want to play again? (yes/no):\").lower()\n",
    "    if play_again == 'yes':\n",
    "        play_game()\n",
    "    else:\n",
    "        print(\"Thanks for playing!\")\n",
    "\n",
    "# Start the game\n",
    "play_game()\n"
   ]
  },
  {
   "cell_type": "markdown",
   "id": "93092828-279e-461f-8669-a929360fe902",
   "metadata": {},
   "source": [
    "#### 25. Build a program that solves a linear equation for x, considering different cases."
   ]
  },
  {
   "cell_type": "code",
   "execution_count": 6,
   "id": "33f51453-872a-4f3a-928b-fac3737dd565",
   "metadata": {},
   "outputs": [
    {
     "name": "stdin",
     "output_type": "stream",
     "text": [
      "Enter the coefficient of x (a): 4\n",
      "Enter the constant term (b): 6\n"
     ]
    },
    {
     "name": "stdout",
     "output_type": "stream",
     "text": [
      "The solution to the equation 4.0x + 6.0 = 0 is x = -1.5\n"
     ]
    }
   ],
   "source": [
    "def solve_linear_equation(a, b):\n",
    "    if a == 0:\n",
    "        if b == 0:\n",
    "            return \"Infinite solutions (all real numbers)\"\n",
    "        else:\n",
    "            return \"No solution\"\n",
    "    else:\n",
    "        x = -b / a\n",
    "        return f\"The solution to the equation {a}x + {b} = 0 is x = {x}\"\n",
    "\n",
    "try:\n",
    "    a = float(input(\"Enter the coefficient of x (a):\"))\n",
    "    b = float(input(\"Enter the constant term (b):\"))\n",
    "\n",
    "    solution = solve_linear_equation(a, b)\n",
    "    print(solution)\n",
    "except ValueError:\n",
    "    print(\"Invalid input. Please enter valid values for the coefficients.\")\n"
   ]
  },
  {
   "cell_type": "markdown",
   "id": "70a9541c-b8da-41cc-97dd-a3c6732de558",
   "metadata": {},
   "source": [
    "#### 26. Write a program that simulates a basic quiz game with multiple-choice questions and scoring."
   ]
  },
  {
   "cell_type": "code",
   "execution_count": 7,
   "id": "eb65f23a-356f-42ee-a7f9-ed135d5b3ee2",
   "metadata": {},
   "outputs": [
    {
     "name": "stdin",
     "output_type": "stream",
     "text": [
      "What is the capital of France?\n",
      "(a) Paris\n",
      "(b) London\n",
      "(c) Berlin\n",
      " c\n"
     ]
    },
    {
     "name": "stdout",
     "output_type": "stream",
     "text": [
      "Incorrect!\n"
     ]
    },
    {
     "name": "stdin",
     "output_type": "stream",
     "text": [
      "What is the largest planet in our solar system?\n",
      "(a) Earth\n",
      "(b) Jupiter\n",
      "(c) Mars\n",
      " b\n"
     ]
    },
    {
     "name": "stdout",
     "output_type": "stream",
     "text": [
      "Correct!\n"
     ]
    },
    {
     "name": "stdin",
     "output_type": "stream",
     "text": [
      "What is 2 + 2?\n",
      "(a) 3\n",
      "(b) 4\n",
      "(c) 5\n",
      " b\n"
     ]
    },
    {
     "name": "stdout",
     "output_type": "stream",
     "text": [
      "Correct!\n",
      "Quiz completed! You scored 2 out of 3\n"
     ]
    }
   ],
   "source": [
    "def run_quiz(questions):\n",
    "    score = 0\n",
    "    for prompt, answer in questions:\n",
    "        user_answer = input(prompt).lower()\n",
    "        if user_answer == answer:\n",
    "            print(\"Correct!\")\n",
    "            score += 1\n",
    "        else:\n",
    "            print(\"Incorrect!\")\n",
    "\n",
    "    print(\"Quiz completed! You scored\", score, \"out of\", len(questions))\n",
    "\n",
    "# Define the questions as tuples (prompt, answer)\n",
    "questions = [\n",
    "    (\"What is the capital of France?\\n(a) Paris\\n(b) London\\n(c) Berlin\\n\", \"a\"),\n",
    "    (\"What is the largest planet in our solar system?\\n(a) Earth\\n(b) Jupiter\\n(c) Mars\\n\", \"b\"),\n",
    "    (\"What is 2 + 2?\\n(a) 3\\n(b) 4\\n(c) 5\\n\", \"b\")\n",
    "]\n",
    "\n",
    "run_quiz(questions)\n"
   ]
  },
  {
   "cell_type": "markdown",
   "id": "e2dca3ae-c975-4e01-bc39-6a7ea582f2fb",
   "metadata": {},
   "source": [
    "#### 27. Develop a program that determines whether a given year is a prime number or not."
   ]
  },
  {
   "cell_type": "code",
   "execution_count": 8,
   "id": "1859e35e-0d52-40e1-bac4-aa2651cf1d73",
   "metadata": {},
   "outputs": [
    {
     "name": "stdin",
     "output_type": "stream",
     "text": [
      "Enter a year to check if it's prime: 23424\n"
     ]
    },
    {
     "name": "stdout",
     "output_type": "stream",
     "text": [
      "23424 is not a prime number.\n"
     ]
    }
   ],
   "source": [
    "def is_prime(year):\n",
    "    if year <= 1:\n",
    "        return False\n",
    "    for i in range(2, int(year**0.5) + 1):\n",
    "        if year % i == 0:\n",
    "            return False\n",
    "    return True\n",
    "\n",
    "# Get user input\n",
    "try:\n",
    "    year = int(input(\"Enter a year to check if it's prime:\"))\n",
    "    if is_prime(year):\n",
    "        print(f\"{year} is a prime number.\")\n",
    "    else:\n",
    "        print(f\"{year} is not a prime number.\")\n",
    "except ValueError:\n",
    "    print(\"Invalid input. Please enter a valid value for the year.\")\n"
   ]
  },
  {
   "cell_type": "markdown",
   "id": "057278d5-acb5-44ff-98fd-a58320d8ab17",
   "metadata": {},
   "source": [
    "#### 28. Create a program that sorts three numbers in ascending order using conditional statements."
   ]
  },
  {
   "cell_type": "code",
   "execution_count": 9,
   "id": "78c1983c-ee98-425e-a63d-082a9e836210",
   "metadata": {},
   "outputs": [
    {
     "name": "stdin",
     "output_type": "stream",
     "text": [
      "Enter the first number: 45\n",
      "Enter the second number: 75\n",
      "Enter the third number: 24\n"
     ]
    },
    {
     "name": "stdout",
     "output_type": "stream",
     "text": [
      "Numbers in ascending order: (24.0, 45.0, 75.0)\n"
     ]
    }
   ],
   "source": [
    "def sort_three_numbers(num1, num2, num3):\n",
    "    if num1 <= num2 and num1 <= num3:\n",
    "        smallest = num1\n",
    "        if num2 <= num3:\n",
    "            middle = num2\n",
    "            largest = num3\n",
    "        else:\n",
    "            middle = num3\n",
    "            largest = num2\n",
    "    elif num2 <= num1 and num2 <= num3:\n",
    "        smallest = num2\n",
    "        if num1 <= num3:\n",
    "            middle = num1\n",
    "            largest = num3\n",
    "        else:\n",
    "            middle = num3\n",
    "            largest = num1\n",
    "    else:\n",
    "        smallest = num3\n",
    "        if num1 <= num2:\n",
    "            middle = num1\n",
    "            largest = num2\n",
    "        else:\n",
    "            middle = num2\n",
    "            largest = num1\n",
    "\n",
    "    return smallest, middle, largest\n",
    "\n",
    "try:\n",
    "    num1 = float(input(\"Enter the first number:\"))\n",
    "    num2 = float(input(\"Enter the second number:\"))\n",
    "    num3 = float(input(\"Enter the third number:\"))\n",
    "\n",
    "    sorted_nums = sort_three_numbers(num1, num2, num3)\n",
    "    print(\"Numbers in ascending order:\", sorted_nums)\n",
    "except ValueError:\n",
    "    print(\"Invalid input. Please enter valid values for the numbers.\")\n"
   ]
  },
  {
   "cell_type": "markdown",
   "id": "403dbf79-fa0c-41f8-8aab-de38aec914e1",
   "metadata": {},
   "source": [
    "#### 29. Build a program that determines the roots of a quartic equation using numerical methods."
   ]
  },
  {
   "cell_type": "code",
   "execution_count": 10,
   "id": "a6047d7a-614f-4d89-9a62-7bdb31962633",
   "metadata": {},
   "outputs": [
    {
     "name": "stdout",
     "output_type": "stream",
     "text": [
      "Roots of the quartic equation:\n",
      "0\n",
      "1\n",
      "2\n",
      "3\n"
     ]
    }
   ],
   "source": [
    "def equation(x):\n",
    "    return x**4 - 6*x**3 + 11*x**2 - 6*x\n",
    "\n",
    "def derivative(x):\n",
    "    return 4*x**3 - 18*x**2 + 22*x - 6\n",
    "\n",
    "def newton_raphson(initial_guess, tolerance=1e-6, max_iterations=100):\n",
    "    x = initial_guess\n",
    "    iterations = 0\n",
    "\n",
    "    while abs(equation(x)) > tolerance and iterations < max_iterations:\n",
    "        x = x - equation(x) / derivative(x)\n",
    "        iterations += 1\n",
    "\n",
    "    if iterations == max_iterations:\n",
    "        print(\"Maximum iterations reached. No convergence.\")\n",
    "        return None\n",
    "    else:\n",
    "        return x\n",
    "\n",
    "# Find the roots using Newton-Raphson method\n",
    "roots = []\n",
    "initial_guesses = [0, 1, 2, 3]\n",
    "for guess in initial_guesses:\n",
    "    root = newton_raphson(guess)\n",
    "    if root is not None:\n",
    "        roots.append(root)\n",
    "\n",
    "print(\"Roots of the quartic equation:\")\n",
    "for root in roots:\n",
    "    print(root)\n"
   ]
  },
  {
   "cell_type": "markdown",
   "id": "e2c80023-3288-4c12-8f5e-cbad41a76a46",
   "metadata": {},
   "source": [
    "#### 30. Write a program that calculates the BMI (Body Mass Index) and provides health recommendations based on the user's input."
   ]
  },
  {
   "cell_type": "code",
   "execution_count": 11,
   "id": "35cc8b5d-3c72-4d40-a155-798d70625e22",
   "metadata": {},
   "outputs": [
    {
     "name": "stdin",
     "output_type": "stream",
     "text": [
      "Enter your weight in kilograms: 342\n",
      "Enter your height in meters: 2\n"
     ]
    },
    {
     "name": "stdout",
     "output_type": "stream",
     "text": [
      "Your BMI is: 85.5\n",
      "Health Recommendations: Obese: You may be at risk of weight-related health issues. Consult with a healthcare professional for guidance.\n"
     ]
    }
   ],
   "source": [
    "def calculate_bmi(weight, height):\n",
    "    return weight / (height ** 2)\n",
    "\n",
    "def health_recommendations(bmi):\n",
    "    if bmi < 18.5:\n",
    "        return \"Underweight: You may need to gain some weight. Consider consulting with a healthcare professional.\"\n",
    "    elif 18.5 <= bmi < 25:\n",
    "        return \"Normal weight: Keep up the good work!\"\n",
    "    elif 25 <= bmi < 30:\n",
    "        return \"Overweight: You may need to lose some weight. Consider exercising regularly and watching your diet.\"\n",
    "    else:\n",
    "        return \"Obese: You may be at risk of weight-related health issues. Consult with a healthcare professional for guidance.\"\n",
    "\n",
    "try:\n",
    "    weight = float(input(\"Enter your weight in kilograms:\"))\n",
    "    height = float(input(\"Enter your height in meters:\"))\n",
    "\n",
    "    bmi = calculate_bmi(weight, height)\n",
    "    print(\"Your BMI is:\", bmi)\n",
    "    print(\"Health Recommendations:\", health_recommendations(bmi))\n",
    "except ValueError:\n",
    "    print(\"Invalid input. Please enter valid values for weight and height.\")\n"
   ]
  },
  {
   "cell_type": "markdown",
   "id": "ba660b59-6c54-4abd-9fac-c16fae1b3929",
   "metadata": {},
   "source": [
    "# Challenge Level:"
   ]
  },
  {
   "cell_type": "markdown",
   "id": "bf22d96a-3a99-4a99-b99e-e1036c262077",
   "metadata": {},
   "source": [
    "#### 31. Create a program that validates a password based on complexity rules (length, characters, etc.)."
   ]
  },
  {
   "cell_type": "code",
   "execution_count": 13,
   "id": "21c146b6-c631-41d5-9107-2fa559c2d819",
   "metadata": {},
   "outputs": [
    {
     "name": "stdin",
     "output_type": "stream",
     "text": [
      "Enter your password: asdf(*dsD\n"
     ]
    },
    {
     "name": "stdout",
     "output_type": "stream",
     "text": [
      "Password must contain at least one digit.\n"
     ]
    }
   ],
   "source": [
    "import re\n",
    "\n",
    "def validate_password(password):\n",
    "    # Check length\n",
    "    if len(password) < 8:\n",
    "        return False, \"Password must be at least 8 characters long.\"\n",
    "    \n",
    "    # Check for at least one uppercase letter\n",
    "    if not re.search(\"[A-Z]\", password):\n",
    "        return False, \"Password must contain at least one uppercase letter.\"\n",
    "    \n",
    "    # Check for at least one lowercase letter\n",
    "    if not re.search(\"[a-z]\", password):\n",
    "        return False, \"Password must contain at least one lowercase letter.\"\n",
    "    \n",
    "    # Check for at least one digit\n",
    "    if not re.search(\"[0-9]\", password):\n",
    "        return False, \"Password must contain at least one digit.\"\n",
    "    \n",
    "    # Check for at least one special character\n",
    "    if not re.search(\"[!@#$%^&*()-_+=]\", password):\n",
    "        return False, \"Password must contain at least one special character.\"\n",
    "    \n",
    "    # If all conditions are met, password is valid\n",
    "    return True, \"Password is valid.\"\n",
    "\n",
    "# Get user input\n",
    "password = input(\"Enter your password:\")\n",
    "\n",
    "# Validate the password\n",
    "is_valid, message = validate_password(password)\n",
    "\n",
    "# Print validation result\n",
    "print(message)\n"
   ]
  },
  {
   "cell_type": "markdown",
   "id": "51620ce0-f7b5-4e71-8eb7-f4fd20f45bb9",
   "metadata": {},
   "source": [
    "#### 32. Develop a program that performs matrix addition and subtraction based on user input."
   ]
  },
  {
   "cell_type": "code",
   "execution_count": null,
   "id": "be5a0310-f517-4e32-9413-307a2e2682a6",
   "metadata": {},
   "outputs": [
    {
     "name": "stdin",
     "output_type": "stream",
     "text": [
      "Enter the number of rows for the matrices: 3\n",
      "Enter the number of columns for the matrices: 4\n"
     ]
    },
    {
     "name": "stdout",
     "output_type": "stream",
     "text": [
      "Enter elements for matrix 1:\n"
     ]
    },
    {
     "name": "stdin",
     "output_type": "stream",
     "text": [
      "Enter element for row 1 column 1: 1\n",
      "Enter element for row 1 column 2: 3\n",
      "Enter element for row 1 column 3: 4\n",
      "Enter element for row 1 column 4: 3\n",
      "Enter element for row 2 column 1: 2\n",
      "Enter element for row 2 column 2: 3\n",
      "Enter element for row 2 column 3: 4\n",
      "Enter element for row 2 column 4: 3\n",
      "Enter element for row 3 column 1: 3\n",
      "Enter element for row 3 column 2: 3\n",
      "Enter element for row 3 column 3: 3\n",
      "Enter element for row 3 column 4: 3\n"
     ]
    },
    {
     "name": "stdout",
     "output_type": "stream",
     "text": [
      "Enter elements for matrix 2:\n"
     ]
    },
    {
     "name": "stdin",
     "output_type": "stream",
     "text": [
      "Enter element for row 1 column 1: 3\n",
      "Enter element for row 1 column 2: 3\n",
      "Enter element for row 1 column 3: 3\n",
      "Enter element for row 1 column 4: 3\n",
      "Enter element for row 2 column 1: 3\n",
      "Enter element for row 2 column 2: 3\n",
      "Enter element for row 2 column 3: 3\n",
      "Enter element for row 2 column 4: 33\n",
      "Enter element for row 3 column 1: 3\n",
      "Enter element for row 3 column 2: 3\n",
      "Enter element for row 3 column 3: 3\n",
      "Enter element for row 3 column 4: 33\n"
     ]
    },
    {
     "name": "stdout",
     "output_type": "stream",
     "text": [
      "\n",
      "Matrix Addition Result:\n",
      "[4, 6, 7, 6]\n",
      "[5, 6, 7, 36]\n",
      "[6, 6, 6, 36]\n",
      "\n",
      "Matrix Subtraction Result:\n",
      "[-2, 0, 1, 0]\n",
      "[-1, 0, 1, -30]\n",
      "[0, 0, 0, -30]\n"
     ]
    }
   ],
   "source": [
    "def matrix_addition(matrix1, matrix2):\n",
    "    result = []\n",
    "    for i in range(len(matrix1)):\n",
    "        row = []\n",
    "        for j in range(len(matrix1[0])):\n",
    "            row.append(matrix1[i][j] + matrix2[i][j])\n",
    "        result.append(row)\n",
    "    return result\n",
    "\n",
    "def matrix_subtraction(matrix1, matrix2):\n",
    "    result = []\n",
    "    for i in range(len(matrix1)):\n",
    "        row = []\n",
    "        for j in range(len(matrix1[0])):\n",
    "            row.append(matrix1[i][j] - matrix2[i][j])\n",
    "        result.append(row)\n",
    "    return result\n",
    "\n",
    "def print_matrix(matrix):\n",
    "    for row in matrix:\n",
    "        print(row)\n",
    "\n",
    "try:\n",
    "    # Get matrix dimensions from the user\n",
    "    rows = int(input(\"Enter the number of rows for the matrices:\"))\n",
    "    columns = int(input(\"Enter the number of columns for the matrices:\"))\n",
    "\n",
    "    # Get matrix elements from the user\n",
    "    print(\"Enter elements for matrix 1:\")\n",
    "    matrix1 = [[int(input(f\"Enter element for row {i+1} column {j+1}:\")) for j in range(columns)] for i in range(rows)]\n",
    "    \n",
    "    print(\"Enter elements for matrix 2:\")\n",
    "    matrix2 = [[int(input(f\"Enter element for row {i+1} column {j+1}:\")) for j in range(columns)] for i in range(rows)]\n",
    "\n",
    "    # Perform addition and subtraction\n",
    "    addition_result = matrix_addition(matrix1, matrix2)\n",
    "    subtraction_result = matrix_subtraction(matrix1, matrix2)\n",
    "\n",
    "    # Print results\n",
    "    print(\"\\nMatrix Addition Result:\")\n",
    "    print_matrix(addition_result)\n",
    "\n",
    "    print(\"\\nMatrix Subtraction Result:\")\n",
    "    print_matrix(subtraction_result)\n",
    "\n",
    "except ValueError:\n",
    "    print(\"Invalid input. Please enter valid values for the matrix elements.\")\n"
   ]
  },
  {
   "cell_type": "markdown",
   "id": "87f25c48-3f84-42ea-9921-b977fdc4a104",
   "metadata": {},
   "source": [
    "#### 33. Write a program that calculates the greatest common divisor (GCD) of two numbers using the Euclidean algorithm."
   ]
  },
  {
   "cell_type": "code",
   "execution_count": 15,
   "id": "04df07d3-f461-4741-a282-f675c089d6b6",
   "metadata": {},
   "outputs": [
    {
     "name": "stdin",
     "output_type": "stream",
     "text": [
      "Enter the first number: 34\n",
      "Enter the second number: 8\n"
     ]
    },
    {
     "name": "stdout",
     "output_type": "stream",
     "text": [
      "The greatest common divisor (GCD) of 34 and 8 is: 2\n"
     ]
    }
   ],
   "source": [
    "def euclidean_algorithm(a, b):\n",
    "    while b != 0:\n",
    "        a, b = b, a % b\n",
    "    return a\n",
    "\n",
    "def gcd(a, b):\n",
    "    if a < 0:\n",
    "        a = -a\n",
    "    if b < 0:\n",
    "        b = -b\n",
    "    return euclidean_algorithm(a, b)\n",
    "\n",
    "try:\n",
    "    num1 = int(input(\"Enter the first number:\"))\n",
    "    num2 = int(input(\"Enter the second number:\"))\n",
    "\n",
    "    # Calculate and print the GCD\n",
    "    print(\"The greatest common divisor (GCD) of\", num1, \"and\", num2, \"is:\", gcd(num1, num2))\n",
    "except ValueError:\n",
    "    print(\"Invalid input. Please enter valid values for the numbers.\")\n"
   ]
  },
  {
   "cell_type": "markdown",
   "id": "e1224d26-3deb-4f6e-bd33-778c7899e893",
   "metadata": {},
   "source": [
    "#### 34. Build a program that performs matrix multiplication using nested loops and conditional statements."
   ]
  },
  {
   "cell_type": "code",
   "execution_count": null,
   "id": "09d4d0de-358a-4396-8e30-0be2a6014d2e",
   "metadata": {},
   "outputs": [
    {
     "name": "stdin",
     "output_type": "stream",
     "text": [
      "Enter the number of rows for matrix 1: 4\n",
      "Enter the number of columns for matrix 1: 4\n",
      "Enter the number of rows for matrix 2: 4\n",
      "Enter the number of columns for matrix 2: 4\n"
     ]
    },
    {
     "name": "stdout",
     "output_type": "stream",
     "text": [
      "Enter elements for matrix 1:\n"
     ]
    },
    {
     "name": "stdin",
     "output_type": "stream",
     "text": [
      "Enter element for row 1 column 1:  4\n",
      "Enter element for row 1 column 2:  4\n",
      "Enter element for row 1 column 3:  4\n",
      "Enter element for row 1 column 4:  4\n",
      "Enter element for row 2 column 1:  4\n",
      "Enter element for row 2 column 2:  4\n",
      "Enter element for row 2 column 3:  4\n",
      "Enter element for row 2 column 4:  4\n",
      "Enter element for row 3 column 1:  4\n",
      "Enter element for row 3 column 2:  4\n",
      "Enter element for row 3 column 3:  4\n",
      "Enter element for row 3 column 4:  4\n",
      "Enter element for row 4 column 1:  4\n",
      "Enter element for row 4 column 2:  4\n",
      "Enter element for row 4 column 3:  4\n",
      "Enter element for row 4 column 4:  3\n"
     ]
    },
    {
     "name": "stdout",
     "output_type": "stream",
     "text": [
      "Enter elements for matrix 2:\n"
     ]
    },
    {
     "name": "stdin",
     "output_type": "stream",
     "text": [
      "Enter element for row 1 column 1:  3\n",
      "Enter element for row 1 column 2:  2\n",
      "Enter element for row 1 column 3:  2\n",
      "Enter element for row 1 column 4:  2\n",
      "Enter element for row 2 column 1:  2\n",
      "Enter element for row 2 column 2:  8\n",
      "Enter element for row 2 column 3:  8\n",
      "Enter element for row 2 column 4:  8\n",
      "Enter element for row 3 column 1:  8\n",
      "Enter element for row 3 column 2:  0\n",
      "Enter element for row 3 column 3:  67\n",
      "Enter element for row 3 column 4:  6\n",
      "Enter element for row 4 column 1:  6\n",
      "Enter element for row 4 column 2:  6\n",
      "Enter element for row 4 column 3:  5\n",
      "Enter element for row 4 column 4:  5\n"
     ]
    },
    {
     "name": "stdout",
     "output_type": "stream",
     "text": [
      "\n",
      "Matrix Multiplication Result:\n",
      "[76, 64, 328, 84]\n",
      "[76, 64, 328, 84]\n",
      "[76, 64, 328, 84]\n",
      "[70, 58, 323, 79]\n"
     ]
    }
   ],
   "source": [
    "def matrix_multiplication(matrix1, matrix2):\n",
    "    if len(matrix1[0]) != len(matrix2):\n",
    "        return \"Error: Number of columns in matrix1 must be equal to number of rows in matrix2.\"\n",
    "\n",
    "    result = []\n",
    "    for i in range(len(matrix1)):\n",
    "        row = []\n",
    "        for j in range(len(matrix2[0])):\n",
    "            element = 0\n",
    "            for k in range(len(matrix1[0])):\n",
    "                element += matrix1[i][k] * matrix2[k][j]\n",
    "            row.append(element)\n",
    "        result.append(row)\n",
    "    return result\n",
    "\n",
    "def print_matrix(matrix):\n",
    "    for row in matrix:\n",
    "        print(row)\n",
    "\n",
    "try:\n",
    "    # Get dimensions of matrices from the user\n",
    "    rows1 = int(input(\"Enter the number of rows for matrix 1:\"))\n",
    "    columns1 = int(input(\"Enter the number of columns for matrix 1:\"))\n",
    "    rows2 = int(input(\"Enter the number of rows for matrix 2:\"))\n",
    "    columns2 = int(input(\"Enter the number of columns for matrix 2:\"))\n",
    "\n",
    "    # Check if multiplication is possible\n",
    "    if columns1 != rows2:\n",
    "        print(\"Error: Number of columns in matrix 1 must be equal to number of rows in matrix 2.\")\n",
    "    else:\n",
    "        # Get elements of matrices from the user\n",
    "        print(\"Enter elements for matrix 1:\")\n",
    "        matrix1 = [[int(input(f\"Enter element for row {i+1} column {j+1}: \")) for j in range(columns1)] for i in range(rows1)]\n",
    "\n",
    "        print(\"Enter elements for matrix 2:\")\n",
    "        matrix2 = [[int(input(f\"Enter element for row {i+1} column {j+1}: \")) for j in range(columns2)] for i in range(rows2)]\n",
    "\n",
    "        # Perform matrix multiplication\n",
    "        result = matrix_multiplication(matrix1, matrix2)\n",
    "\n",
    "        # Print result\n",
    "        print(\"\\nMatrix Multiplication Result:\")\n",
    "        print_matrix(result)\n",
    "\n",
    "except ValueError:\n",
    "    print(\"Invalid input. Please enter valid values for the matrix elements.\")\n"
   ]
  },
  {
   "cell_type": "markdown",
   "id": "c4707593-743a-468c-b4e0-2871f5d123d2",
   "metadata": {},
   "source": [
    "#### 35. Create a program that simulates a basic text-based tic-tac-toe game against the computer."
   ]
  },
  {
   "cell_type": "code",
   "execution_count": 19,
   "id": "13151dff-a542-4e99-bc45-9ce167082745",
   "metadata": {},
   "outputs": [
    {
     "name": "stdout",
     "output_type": "stream",
     "text": [
      "Welcome to Tic-Tac-Toe!\n",
      "  |   |  \n",
      "-----\n",
      "  |   |  \n",
      "-----\n",
      "  |   |  \n",
      "-----\n"
     ]
    },
    {
     "name": "stdin",
     "output_type": "stream",
     "text": [
      "Enter the row number (1-3):  3\n",
      "Enter the column number (1-3):  2\n"
     ]
    },
    {
     "name": "stdout",
     "output_type": "stream",
     "text": [
      "  |   |  \n",
      "-----\n",
      "  |   |  \n",
      "-----\n",
      "  | X |  \n",
      "-----\n",
      "Computer's move:\n",
      "  | O |  \n",
      "-----\n",
      "  |   |  \n",
      "-----\n",
      "  | X |  \n",
      "-----\n"
     ]
    },
    {
     "name": "stdin",
     "output_type": "stream",
     "text": [
      "Enter the row number (1-3):  2\n",
      "Enter the column number (1-3):  1\n"
     ]
    },
    {
     "name": "stdout",
     "output_type": "stream",
     "text": [
      "  | O |  \n",
      "-----\n",
      "X |   |  \n",
      "-----\n",
      "  | X |  \n",
      "-----\n",
      "Computer's move:\n",
      "O | O |  \n",
      "-----\n",
      "X |   |  \n",
      "-----\n",
      "  | X |  \n",
      "-----\n"
     ]
    },
    {
     "name": "stdin",
     "output_type": "stream",
     "text": [
      "Enter the row number (1-3):  33\n",
      "Enter the column number (1-3):  3\n"
     ]
    },
    {
     "name": "stdout",
     "output_type": "stream",
     "text": [
      "Invalid input. Please enter a valid row and column number.\n"
     ]
    },
    {
     "name": "stdin",
     "output_type": "stream",
     "text": [
      "Enter the row number (1-3):  3\n",
      "Enter the column number (1-3):  3\n"
     ]
    },
    {
     "name": "stdout",
     "output_type": "stream",
     "text": [
      "O | O |  \n",
      "-----\n",
      "X |   |  \n",
      "-----\n",
      "  | X | X\n",
      "-----\n",
      "Computer's move:\n",
      "O | O |  \n",
      "-----\n",
      "X |   |  \n",
      "-----\n",
      "O | X | X\n",
      "-----\n"
     ]
    },
    {
     "name": "stdin",
     "output_type": "stream",
     "text": [
      "Enter the row number (1-3):  2\n",
      "Enter the column number (1-3):  2\n"
     ]
    },
    {
     "name": "stdout",
     "output_type": "stream",
     "text": [
      "O | O |  \n",
      "-----\n",
      "X | X |  \n",
      "-----\n",
      "O | X | X\n",
      "-----\n",
      "Computer's move:\n",
      "O | O |  \n",
      "-----\n",
      "X | X | O\n",
      "-----\n",
      "O | X | X\n",
      "-----\n"
     ]
    },
    {
     "name": "stdin",
     "output_type": "stream",
     "text": [
      "Enter the row number (1-3):  1\n",
      "Enter the column number (1-3):  3\n"
     ]
    },
    {
     "name": "stdout",
     "output_type": "stream",
     "text": [
      "O | O | X\n",
      "-----\n",
      "X | X | O\n",
      "-----\n",
      "O | X | X\n",
      "-----\n",
      "It's a draw!\n"
     ]
    }
   ],
   "source": [
    "import random\n",
    "\n",
    "def print_board(board):\n",
    "    for row in board:\n",
    "        print(\" | \".join(row))\n",
    "        print(\"-\" * 5)\n",
    "\n",
    "def check_winner(board, player):\n",
    "    # Check rows\n",
    "    for row in board:\n",
    "        if all(cell == player for cell in row):\n",
    "            return True\n",
    "\n",
    "    # Check columns\n",
    "    for col in range(3):\n",
    "        if all(board[row][col] == player for row in range(3)):\n",
    "            return True\n",
    "\n",
    "    # Check diagonals\n",
    "    if all(board[i][i] == player for i in range(3)) or all(board[i][2-i] == player for i in range(3)):\n",
    "        return True\n",
    "\n",
    "    return False\n",
    "\n",
    "def get_free_positions(board):\n",
    "    free_positions = []\n",
    "    for row in range(3):\n",
    "        for col in range(3):\n",
    "            if board[row][col] == \" \":\n",
    "                free_positions.append((row, col))\n",
    "    return free_positions\n",
    "\n",
    "def computer_move(board):\n",
    "    free_positions = get_free_positions(board)\n",
    "    return random.choice(free_positions)\n",
    "\n",
    "def player_move(board):\n",
    "    while True:\n",
    "        try:\n",
    "            row = int(input(\"Enter the row number (1-3): \")) - 1\n",
    "            col = int(input(\"Enter the column number (1-3): \")) - 1\n",
    "            if board[row][col] == \" \":\n",
    "                return row, col\n",
    "            else:\n",
    "                print(\"That position is already taken. Try again.\")\n",
    "        except (ValueError, IndexError):\n",
    "            print(\"Invalid input. Please enter a valid row and column number.\")\n",
    "\n",
    "def play_game():\n",
    "    board = [[\" \" for _ in range(3)] for _ in range(3)]\n",
    "    print(\"Welcome to Tic-Tac-Toe!\")\n",
    "    print_board(board)\n",
    "\n",
    "    while True:\n",
    "        # Player's move\n",
    "        player_row, player_col = player_move(board)\n",
    "        board[player_row][player_col] = \"X\"\n",
    "        print_board(board)\n",
    "\n",
    "        # Check for player win\n",
    "        if check_winner(board, \"X\"):\n",
    "            print(\"Congratulations! You win!\")\n",
    "            break\n",
    "\n",
    "        # Check for draw\n",
    "        if all(cell != \" \" for row in board for cell in row):\n",
    "            print(\"It's a draw!\")\n",
    "            break\n",
    "\n",
    "        # Computer's move\n",
    "        print(\"Computer's move:\")\n",
    "        computer_row, computer_col = computer_move(board)\n",
    "        board[computer_row][computer_col] = \"O\"\n",
    "        print_board(board)\n",
    "\n",
    "        # Check for computer win\n",
    "        if check_winner(board, \"O\"):\n",
    "            print(\"Computer wins! Better luck next time.\")\n",
    "            break\n",
    "\n",
    "play_game()\n"
   ]
  },
  {
   "cell_type": "markdown",
   "id": "a442d54d-9ad2-47b5-a108-5568077310cd",
   "metadata": {},
   "source": [
    "#### 36. Write a program that generates Fibonacci numbers up to a specified term using iterative methods."
   ]
  },
  {
   "cell_type": "code",
   "execution_count": 20,
   "id": "2daacf9b-d861-4967-8a97-6eaaf4c033d3",
   "metadata": {},
   "outputs": [
    {
     "name": "stdin",
     "output_type": "stream",
     "text": [
      "Enter the number of Fibonacci numbers to generate:  5\n"
     ]
    },
    {
     "name": "stdout",
     "output_type": "stream",
     "text": [
      "Fibonacci sequence up to term 5 : [0, 1, 1, 2, 3]\n"
     ]
    }
   ],
   "source": [
    "def generate_fibonacci(n):\n",
    "    fibonacci_sequence = [0, 1]\n",
    "    for i in range(2, n):\n",
    "        next_fibonacci = fibonacci_sequence[-1] + fibonacci_sequence[-2]\n",
    "        fibonacci_sequence.append(next_fibonacci)\n",
    "    return fibonacci_sequence\n",
    "\n",
    "try:\n",
    "    n = int(input(\"Enter the number of Fibonacci numbers to generate: \"))\n",
    "    if n <= 0:\n",
    "        print(\"Please enter a positive integer.\")\n",
    "    else:\n",
    "        fibonacci_numbers = generate_fibonacci(n)\n",
    "        print(\"Fibonacci sequence up to term\", n, \":\", fibonacci_numbers)\n",
    "except ValueError:\n",
    "    print(\"Invalid input. Please enter a valid integer.\")\n"
   ]
  },
  {
   "cell_type": "markdown",
   "id": "3754bf36-00df-4819-a8df-cd43973bc8b5",
   "metadata": {},
   "source": [
    "#### 37. Develop a program that calculates the nth term of the Fibonacci sequence using memoization."
   ]
  },
  {
   "cell_type": "code",
   "execution_count": 21,
   "id": "bc91ba2f-354c-4ee4-a993-d04b7bc63c84",
   "metadata": {},
   "outputs": [
    {
     "name": "stdin",
     "output_type": "stream",
     "text": [
      "Enter the value of n to calculate the nth Fibonacci number:  28\n"
     ]
    },
    {
     "name": "stdout",
     "output_type": "stream",
     "text": [
      "The 28th Fibonacci number is: 317811\n"
     ]
    }
   ],
   "source": [
    "def fibonacci(n, memo={}):\n",
    "    if n in memo:\n",
    "        return memo[n]\n",
    "    if n <= 1:\n",
    "        return n\n",
    "    memo[n] = fibonacci(n-1, memo) + fibonacci(n-2, memo)\n",
    "    return memo[n]\n",
    "\n",
    "try:\n",
    "    n = int(input(\"Enter the value of n to calculate the nth Fibonacci number: \"))\n",
    "    if n < 0:\n",
    "        print(\"Please enter a non-negative integer.\")\n",
    "    else:\n",
    "        nth_fibonacci = fibonacci(n)\n",
    "        print(f\"The {n}th Fibonacci number is:\", nth_fibonacci)\n",
    "except ValueError:\n",
    "    print(\"Invalid input. Please enter a valid integer.\")\n"
   ]
  },
  {
   "cell_type": "markdown",
   "id": "71eb24f0-3e9f-407c-82fb-44af089ddffe",
   "metadata": {},
   "source": [
    "#### 38. Create a program that generates a calendar for a given month and year using conditional statements."
   ]
  },
  {
   "cell_type": "code",
   "execution_count": 23,
   "id": "de789647-42ec-47d0-a48c-37a560916ac1",
   "metadata": {},
   "outputs": [
    {
     "name": "stdin",
     "output_type": "stream",
     "text": [
      "Enter the month (1-12):  7\n",
      "Enter the year:  1990\n"
     ]
    },
    {
     "name": "stdout",
     "output_type": "stream",
     "text": [
      "\n",
      " 7 / 1990\n",
      "Mo Tu We Th Fr Sa Su\n",
      "--------------------\n",
      " 1  2  3  4  5  6  7 \n",
      " 8  9 10 11 12 13 14 \n",
      "15 16 17 18 19 20 21 \n",
      "22 23 24 25 26 27 28 \n",
      "29 30 31 \n"
     ]
    }
   ],
   "source": [
    "def is_leap_year(year):\n",
    "    if year % 4 == 0:\n",
    "        if year % 100 == 0:\n",
    "            if year % 400 == 0:\n",
    "                return True\n",
    "            else:\n",
    "                return False\n",
    "        else:\n",
    "            return True\n",
    "    else:\n",
    "        return False\n",
    "\n",
    "def get_days_in_month(month, year):\n",
    "    if month in [1, 3, 5, 7, 8, 10, 12]:\n",
    "        return 31\n",
    "    elif month in [4, 6, 9, 11]:\n",
    "        return 30\n",
    "    elif month == 2:\n",
    "        if is_leap_year(year):\n",
    "            return 29\n",
    "        else:\n",
    "            return 28\n",
    "    else:\n",
    "        return None\n",
    "\n",
    "def generate_calendar(month, year):\n",
    "    days_in_month = get_days_in_month(month, year)\n",
    "    if days_in_month is None:\n",
    "        print(\"Invalid month.\")\n",
    "        return\n",
    "\n",
    "    print(\"\\n\", month, \"/\", year)\n",
    "    print(\"Mo Tu We Th Fr Sa Su\")\n",
    "    print(\"--------------------\")\n",
    "\n",
    "    # Calculate the starting day of the month\n",
    "    # January 1, 1800, was a Wednesday (1)\n",
    "    starting_day = (1 + sum(get_days_in_month(m, year) for m in range(1, month))) % 7\n",
    "\n",
    "    # Print the calendar\n",
    "    day_counter = 0\n",
    "    for i in range(1, days_in_month + 1):\n",
    "        if i == 1:\n",
    "            print(\"   \" * starting_day, end=\"\")\n",
    "        print(f\"{i:2}\", end=\" \")\n",
    "        day_counter += 1\n",
    "        if day_counter % 7 == 0 or i == days_in_month:\n",
    "            print()\n",
    "\n",
    "try:\n",
    "    month = int(input(\"Enter the month (1-12): \"))\n",
    "    year = int(input(\"Enter the year: \"))\n",
    "    generate_calendar(month, year)\n",
    "except ValueError:\n",
    "    print(\"Invalid input. Please enter valid integers for month and year.\")\n"
   ]
  },
  {
   "cell_type": "markdown",
   "id": "f3c4cfa5-4b83-4259-88e1-b60c759c9604",
   "metadata": {},
   "source": [
    "#### 39. Build a program that simulates a basic text-based blackjack game against the computer."
   ]
  },
  {
   "cell_type": "code",
   "execution_count": 24,
   "id": "2120b4c2-7518-48ff-b29e-302cd9a084ef",
   "metadata": {},
   "outputs": [
    {
     "name": "stdout",
     "output_type": "stream",
     "text": [
      "Welcome to Blackjack!\n",
      "Your cards: 8, Q\n"
     ]
    },
    {
     "name": "stdin",
     "output_type": "stream",
     "text": [
      "Do you want to hit or stand?  hit\n"
     ]
    },
    {
     "name": "stdout",
     "output_type": "stream",
     "text": [
      "Your hand: 8, Q, 7 ( 25 points)\n",
      "Busted! You lose!\n",
      "\n",
      "Your final hand: 8, Q, 7 ( 25 points)\n",
      "Computer's final hand: A, 9 ( 20 points)\n",
      "You busted! You lose!\n"
     ]
    }
   ],
   "source": [
    "import random\n",
    "\n",
    "def deal_card():\n",
    "    cards = ['2', '3', '4', '5', '6', '7', '8', '9', '10', 'J', 'Q', 'K', 'A']\n",
    "    return random.choice(cards)\n",
    "\n",
    "def calculate_score(hand):\n",
    "    score = 0\n",
    "    num_aces = 0\n",
    "    for card in hand:\n",
    "        if card.isdigit():\n",
    "            score += int(card)\n",
    "        elif card in ['J', 'Q', 'K']:\n",
    "            score += 10\n",
    "        elif card == 'A':\n",
    "            num_aces += 1\n",
    "            score += 11\n",
    "    while score > 21 and num_aces:\n",
    "        score -= 10\n",
    "        num_aces -= 1\n",
    "    return score\n",
    "\n",
    "def print_hand(hand, score):\n",
    "    print(\"Your hand:\", \", \".join(hand), \"(\", score, \"points)\")\n",
    "\n",
    "def play_blackjack():\n",
    "    player_hand = [deal_card(), deal_card()]\n",
    "    computer_hand = [deal_card()]\n",
    "\n",
    "    print(\"Welcome to Blackjack!\")\n",
    "    print(\"Your cards:\", \", \".join(player_hand))\n",
    "\n",
    "    while True:\n",
    "        player_score = calculate_score(player_hand)\n",
    "        if player_score == 21:\n",
    "            print(\"Blackjack! You win!\")\n",
    "            break\n",
    "        elif player_score > 21:\n",
    "            print(\"Busted! You lose!\")\n",
    "            break\n",
    "\n",
    "        action = input(\"Do you want to hit or stand? \").lower()\n",
    "        if action == 'hit':\n",
    "            player_hand.append(deal_card())\n",
    "            print_hand(player_hand, calculate_score(player_hand))\n",
    "        elif action == 'stand':\n",
    "            break\n",
    "\n",
    "    computer_score = calculate_score(computer_hand)\n",
    "    while computer_score < 17:\n",
    "        computer_hand.append(deal_card())\n",
    "        computer_score = calculate_score(computer_hand)\n",
    "\n",
    "    print(\"\\nYour final hand:\", \", \".join(player_hand), \"(\", calculate_score(player_hand), \"points)\")\n",
    "    print(\"Computer's final hand:\", \", \".join(computer_hand), \"(\", computer_score, \"points)\")\n",
    "\n",
    "    if player_score > 21:\n",
    "        print(\"You busted! You lose!\")\n",
    "    elif computer_score > 21 or player_score > computer_score:\n",
    "        print(\"Congratulations! You win!\")\n",
    "    elif player_score < computer_score:\n",
    "        print(\"Sorry, you lose!\")\n",
    "    else:\n",
    "        print(\"It's a tie!\")\n",
    "\n",
    "play_blackjack()\n"
   ]
  },
  {
   "cell_type": "markdown",
   "id": "104e8e98-3504-4a04-94df-14dc114d75ed",
   "metadata": {},
   "source": [
    "#### 40. Write a program that generates the prime factors of a given number using trial division."
   ]
  },
  {
   "cell_type": "code",
   "execution_count": 25,
   "id": "7dc07e6d-a59b-4e6a-9ca2-fb7fb5fa6bc5",
   "metadata": {},
   "outputs": [
    {
     "name": "stdin",
     "output_type": "stream",
     "text": [
      "Enter a number to find its prime factors:  5346\n"
     ]
    },
    {
     "name": "stdout",
     "output_type": "stream",
     "text": [
      "Prime factors of 5346 : [2, 3, 3, 3, 3, 3, 11]\n"
     ]
    }
   ],
   "source": [
    "def prime_factors(n):\n",
    "    factors = []\n",
    "    divisor = 2\n",
    "\n",
    "    while n > 1:\n",
    "        while n % divisor == 0:\n",
    "            factors.append(divisor)\n",
    "            n //= divisor\n",
    "        divisor += 1\n",
    "\n",
    "    return factors\n",
    "\n",
    "try:\n",
    "    number = int(input(\"Enter a number to find its prime factors: \"))\n",
    "    if number <= 0:\n",
    "        print(\"Please enter a positive integer.\")\n",
    "    else:\n",
    "        factors = prime_factors(number)\n",
    "        if len(factors) == 0:\n",
    "            print(\"The number\", number, \"has no prime factors.\")\n",
    "        else:\n",
    "            print(\"Prime factors of\", number, \":\", factors)\n",
    "except ValueError:\n",
    "    print(\"Invalid input. Please enter a valid integer.\")\n"
   ]
  }
 ],
 "metadata": {
  "kernelspec": {
   "display_name": "Python 3 (ipykernel)",
   "language": "python",
   "name": "python3"
  },
  "language_info": {
   "codemirror_mode": {
    "name": "ipython",
    "version": 3
   },
   "file_extension": ".py",
   "mimetype": "text/x-python",
   "name": "python",
   "nbconvert_exporter": "python",
   "pygments_lexer": "ipython3",
   "version": "3.10.8"
  }
 },
 "nbformat": 4,
 "nbformat_minor": 5
}
